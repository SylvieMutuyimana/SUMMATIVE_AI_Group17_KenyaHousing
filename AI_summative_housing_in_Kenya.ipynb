{
  "cells": [
    {
      "cell_type": "markdown",
      "metadata": {
        "id": "Q-KyGUFj4FOI"
      },
      "source": [
        "Importing required libraries"
      ]
    },
    {
      "cell_type": "code",
      "execution_count": null,
      "metadata": {
        "id": "eDD7ZQ2h31bf"
      },
      "outputs": [],
      "source": [
        "import pandas as pd\n",
        "import numpy as np\n",
        "import pandas as pd\n",
        "import matplotlib.pyplot as plt\n",
        "import os\n",
        "import seaborn as sns\n",
        "from scipy import stats\n",
        "import missingno as msno\n",
        "from sklearn.ensemble import RandomForestRegressor\n",
        "from sklearn.model_selection import train_test_split\n",
        "from sklearn.tree import DecisionTreeRegressor\n",
        "from google.colab import drive"
      ]
    },
    {
      "cell_type": "markdown",
      "metadata": {
        "id": "hNKKClpT7L5B"
      },
      "source": [
        "Loading the dataset"
      ]
    },
    {
      "cell_type": "code",
      "execution_count": null,
      "metadata": {
        "colab": {
          "base_uri": "https://localhost:8080/"
        },
        "id": "V4E-bi-i4ZtX",
        "outputId": "6700a464-0bd9-4626-f3e7-42c5811fa90b"
      },
      "outputs": [
        {
          "output_type": "stream",
          "name": "stdout",
          "text": [
            "Drive already mounted at /content/drive; to attempt to forcibly remount, call drive.mount(\"/content/drive\", force_remount=True).\n"
          ]
        }
      ],
      "source": [
        "# from google.colab import drive\n",
        "drive.mount('/content/drive')"
      ]
    },
    {
      "cell_type": "code",
      "execution_count": null,
      "metadata": {
        "id": "aiu0QtPV47Q3"
      },
      "outputs": [],
      "source": [
        "aparts_df = pd.read_csv('/content/drive/MyDrive/rent_apts.csv')"
      ]
    },
    {
      "cell_type": "markdown",
      "metadata": {
        "id": "fKUuuZeH7mr6"
      },
      "source": [
        "Exploring the dataset"
      ]
    },
    {
      "cell_type": "code",
      "execution_count": null,
      "metadata": {
        "colab": {
          "base_uri": "https://localhost:8080/"
        },
        "id": "uyUrE4yc-UFS",
        "outputId": "2a0b7296-a429-4e7a-ca94-c962f92c1823"
      },
      "outputs": [
        {
          "output_type": "execute_result",
          "data": {
            "text/plain": [
              "(1848, 7)"
            ]
          },
          "metadata": {},
          "execution_count": 108
        }
      ],
      "source": [
        "#Shape of the dataset, rows and columns respectively.\n",
        "aparts_df.shape"
      ]
    },
    {
      "cell_type": "code",
      "execution_count": null,
      "metadata": {
        "colab": {
          "base_uri": "https://localhost:8080/"
        },
        "id": "b2iYY2W-7pa0",
        "outputId": "4aa16dad-276f-4f31-f3b9-49eaf4ae0fde"
      },
      "outputs": [
        {
          "output_type": "stream",
          "name": "stdout",
          "text": [
            "<class 'pandas.core.frame.DataFrame'>\n",
            "RangeIndex: 1848 entries, 0 to 1847\n",
            "Data columns (total 7 columns):\n",
            " #   Column        Non-Null Count  Dtype  \n",
            "---  ------        --------------  -----  \n",
            " 0   Agency        1848 non-null   object \n",
            " 1   Neighborhood  1848 non-null   object \n",
            " 2   Price         1848 non-null   object \n",
            " 3   link          1848 non-null   object \n",
            " 4   sq_mtrs       1846 non-null   float64\n",
            " 5   Bedrooms      1845 non-null   float64\n",
            " 6   Bathrooms     1557 non-null   float64\n",
            "dtypes: float64(3), object(4)\n",
            "memory usage: 101.2+ KB\n"
          ]
        }
      ],
      "source": [
        "aparts_df.info()"
      ]
    },
    {
      "cell_type": "markdown",
      "metadata": {
        "id": "0AR-MGpBGd5v"
      },
      "source": [
        "# Data cleaning and wrangling"
      ]
    },
    {
      "cell_type": "code",
      "execution_count": null,
      "metadata": {
        "colab": {
          "base_uri": "https://localhost:8080/"
        },
        "id": "gcHGKbBOrEnZ",
        "outputId": "cfc2473b-3017-4549-9f01-6bd7e3404411"
      },
      "outputs": [
        {
          "output_type": "execute_result",
          "data": {
            "text/plain": [
              "0        155000\n",
              "1        100000\n",
              "2         75000\n",
              "3        135000\n",
              "4         50000\n",
              "         ...   \n",
              "1843     180000\n",
              "1844     180000\n",
              "1845     180000\n",
              "1846     180000\n",
              "1847     180000\n",
              "Name: Price, Length: 1848, dtype: object"
            ]
          },
          "metadata": {},
          "execution_count": 110
        }
      ],
      "source": [
        "\n",
        "#first we shall remove the KSh sign and the comma (KSh 50,000)\n",
        "aparts_df['Price'].str.replace('KSh','',regex=True).str.replace(',','')"
      ]
    },
    {
      "cell_type": "code",
      "execution_count": null,
      "metadata": {
        "id": "RVFo6BAorQiP"
      },
      "outputs": [],
      "source": [
        "#the price column is an object type, we shall convert it to integer\n",
        "aparts_df['Price'] = aparts_df['Price'].str.replace('KSh','',regex=True).str.replace(',','').astype(int)"
      ]
    },
    {
      "cell_type": "code",
      "execution_count": null,
      "metadata": {
        "colab": {
          "base_uri": "https://localhost:8080/"
        },
        "id": "4MG0eTcDrfMA",
        "outputId": "1c7d2f56-7260-4669-a88a-430a320c95b4"
      },
      "outputs": [
        {
          "output_type": "stream",
          "name": "stdout",
          "text": [
            "<class 'pandas.core.frame.DataFrame'>\n",
            "RangeIndex: 1848 entries, 0 to 1847\n",
            "Data columns (total 7 columns):\n",
            " #   Column        Non-Null Count  Dtype  \n",
            "---  ------        --------------  -----  \n",
            " 0   Agency        1848 non-null   object \n",
            " 1   Neighborhood  1848 non-null   object \n",
            " 2   Price         1848 non-null   int64  \n",
            " 3   link          1848 non-null   object \n",
            " 4   sq_mtrs       1846 non-null   float64\n",
            " 5   Bedrooms      1845 non-null   float64\n",
            " 6   Bathrooms     1557 non-null   float64\n",
            "dtypes: float64(3), int64(1), object(3)\n",
            "memory usage: 101.2+ KB\n"
          ]
        }
      ],
      "source": [
        "aparts_df.info()"
      ]
    },
    {
      "cell_type": "code",
      "execution_count": null,
      "metadata": {
        "colab": {
          "base_uri": "https://localhost:8080/",
          "height": 175
        },
        "id": "TGlLYjk0rynZ",
        "outputId": "bb0a7a27-6c9c-438d-e73c-c94206456a55"
      },
      "outputs": [
        {
          "output_type": "execute_result",
          "data": {
            "text/plain": [
              "            count          mean           std      min      25%      50%  \\\n",
              "Price      1848.0  97343.881494  40241.322051  12000.0  70000.0  95000.0   \n",
              "sq_mtrs    1846.0    327.226977   2048.784581      0.0      2.0      3.0   \n",
              "Bedrooms   1845.0      2.577778      0.819399      0.0      2.0      3.0   \n",
              "Bathrooms  1557.0      2.595376      1.000349      1.0      2.0      2.0   \n",
              "\n",
              "                75%       max  \n",
              "Price      130000.0  280000.0  \n",
              "sq_mtrs         4.0   40470.0  \n",
              "Bedrooms        3.0       6.0  \n",
              "Bathrooms       3.0       6.0  "
            ],
            "text/html": [
              "\n",
              "  <div id=\"df-93d69bc2-5171-4f63-80eb-8d14e57cdd95\">\n",
              "    <div class=\"colab-df-container\">\n",
              "      <div>\n",
              "<style scoped>\n",
              "    .dataframe tbody tr th:only-of-type {\n",
              "        vertical-align: middle;\n",
              "    }\n",
              "\n",
              "    .dataframe tbody tr th {\n",
              "        vertical-align: top;\n",
              "    }\n",
              "\n",
              "    .dataframe thead th {\n",
              "        text-align: right;\n",
              "    }\n",
              "</style>\n",
              "<table border=\"1\" class=\"dataframe\">\n",
              "  <thead>\n",
              "    <tr style=\"text-align: right;\">\n",
              "      <th></th>\n",
              "      <th>count</th>\n",
              "      <th>mean</th>\n",
              "      <th>std</th>\n",
              "      <th>min</th>\n",
              "      <th>25%</th>\n",
              "      <th>50%</th>\n",
              "      <th>75%</th>\n",
              "      <th>max</th>\n",
              "    </tr>\n",
              "  </thead>\n",
              "  <tbody>\n",
              "    <tr>\n",
              "      <th>Price</th>\n",
              "      <td>1848.0</td>\n",
              "      <td>97343.881494</td>\n",
              "      <td>40241.322051</td>\n",
              "      <td>12000.0</td>\n",
              "      <td>70000.0</td>\n",
              "      <td>95000.0</td>\n",
              "      <td>130000.0</td>\n",
              "      <td>280000.0</td>\n",
              "    </tr>\n",
              "    <tr>\n",
              "      <th>sq_mtrs</th>\n",
              "      <td>1846.0</td>\n",
              "      <td>327.226977</td>\n",
              "      <td>2048.784581</td>\n",
              "      <td>0.0</td>\n",
              "      <td>2.0</td>\n",
              "      <td>3.0</td>\n",
              "      <td>4.0</td>\n",
              "      <td>40470.0</td>\n",
              "    </tr>\n",
              "    <tr>\n",
              "      <th>Bedrooms</th>\n",
              "      <td>1845.0</td>\n",
              "      <td>2.577778</td>\n",
              "      <td>0.819399</td>\n",
              "      <td>0.0</td>\n",
              "      <td>2.0</td>\n",
              "      <td>3.0</td>\n",
              "      <td>3.0</td>\n",
              "      <td>6.0</td>\n",
              "    </tr>\n",
              "    <tr>\n",
              "      <th>Bathrooms</th>\n",
              "      <td>1557.0</td>\n",
              "      <td>2.595376</td>\n",
              "      <td>1.000349</td>\n",
              "      <td>1.0</td>\n",
              "      <td>2.0</td>\n",
              "      <td>2.0</td>\n",
              "      <td>3.0</td>\n",
              "      <td>6.0</td>\n",
              "    </tr>\n",
              "  </tbody>\n",
              "</table>\n",
              "</div>\n",
              "      <button class=\"colab-df-convert\" onclick=\"convertToInteractive('df-93d69bc2-5171-4f63-80eb-8d14e57cdd95')\"\n",
              "              title=\"Convert this dataframe to an interactive table.\"\n",
              "              style=\"display:none;\">\n",
              "        \n",
              "  <svg xmlns=\"http://www.w3.org/2000/svg\" height=\"24px\"viewBox=\"0 0 24 24\"\n",
              "       width=\"24px\">\n",
              "    <path d=\"M0 0h24v24H0V0z\" fill=\"none\"/>\n",
              "    <path d=\"M18.56 5.44l.94 2.06.94-2.06 2.06-.94-2.06-.94-.94-2.06-.94 2.06-2.06.94zm-11 1L8.5 8.5l.94-2.06 2.06-.94-2.06-.94L8.5 2.5l-.94 2.06-2.06.94zm10 10l.94 2.06.94-2.06 2.06-.94-2.06-.94-.94-2.06-.94 2.06-2.06.94z\"/><path d=\"M17.41 7.96l-1.37-1.37c-.4-.4-.92-.59-1.43-.59-.52 0-1.04.2-1.43.59L10.3 9.45l-7.72 7.72c-.78.78-.78 2.05 0 2.83L4 21.41c.39.39.9.59 1.41.59.51 0 1.02-.2 1.41-.59l7.78-7.78 2.81-2.81c.8-.78.8-2.07 0-2.86zM5.41 20L4 18.59l7.72-7.72 1.47 1.35L5.41 20z\"/>\n",
              "  </svg>\n",
              "      </button>\n",
              "      \n",
              "  <style>\n",
              "    .colab-df-container {\n",
              "      display:flex;\n",
              "      flex-wrap:wrap;\n",
              "      gap: 12px;\n",
              "    }\n",
              "\n",
              "    .colab-df-convert {\n",
              "      background-color: #E8F0FE;\n",
              "      border: none;\n",
              "      border-radius: 50%;\n",
              "      cursor: pointer;\n",
              "      display: none;\n",
              "      fill: #1967D2;\n",
              "      height: 32px;\n",
              "      padding: 0 0 0 0;\n",
              "      width: 32px;\n",
              "    }\n",
              "\n",
              "    .colab-df-convert:hover {\n",
              "      background-color: #E2EBFA;\n",
              "      box-shadow: 0px 1px 2px rgba(60, 64, 67, 0.3), 0px 1px 3px 1px rgba(60, 64, 67, 0.15);\n",
              "      fill: #174EA6;\n",
              "    }\n",
              "\n",
              "    [theme=dark] .colab-df-convert {\n",
              "      background-color: #3B4455;\n",
              "      fill: #D2E3FC;\n",
              "    }\n",
              "\n",
              "    [theme=dark] .colab-df-convert:hover {\n",
              "      background-color: #434B5C;\n",
              "      box-shadow: 0px 1px 3px 1px rgba(0, 0, 0, 0.15);\n",
              "      filter: drop-shadow(0px 1px 2px rgba(0, 0, 0, 0.3));\n",
              "      fill: #FFFFFF;\n",
              "    }\n",
              "  </style>\n",
              "\n",
              "      <script>\n",
              "        const buttonEl =\n",
              "          document.querySelector('#df-93d69bc2-5171-4f63-80eb-8d14e57cdd95 button.colab-df-convert');\n",
              "        buttonEl.style.display =\n",
              "          google.colab.kernel.accessAllowed ? 'block' : 'none';\n",
              "\n",
              "        async function convertToInteractive(key) {\n",
              "          const element = document.querySelector('#df-93d69bc2-5171-4f63-80eb-8d14e57cdd95');\n",
              "          const dataTable =\n",
              "            await google.colab.kernel.invokeFunction('convertToInteractive',\n",
              "                                                     [key], {});\n",
              "          if (!dataTable) return;\n",
              "\n",
              "          const docLinkHtml = 'Like what you see? Visit the ' +\n",
              "            '<a target=\"_blank\" href=https://colab.research.google.com/notebooks/data_table.ipynb>data table notebook</a>'\n",
              "            + ' to learn more about interactive tables.';\n",
              "          element.innerHTML = '';\n",
              "          dataTable['output_type'] = 'display_data';\n",
              "          await google.colab.output.renderOutput(dataTable, element);\n",
              "          const docLink = document.createElement('div');\n",
              "          docLink.innerHTML = docLinkHtml;\n",
              "          element.appendChild(docLink);\n",
              "        }\n",
              "      </script>\n",
              "    </div>\n",
              "  </div>\n",
              "  "
            ]
          },
          "metadata": {},
          "execution_count": 113
        }
      ],
      "source": [
        "aparts_df.describe().T"
      ]
    },
    {
      "cell_type": "code",
      "execution_count": null,
      "metadata": {
        "colab": {
          "base_uri": "https://localhost:8080/"
        },
        "id": "jaXesi3JsiqR",
        "outputId": "aaf36741-33df-438b-921d-fa5506116725"
      },
      "outputs": [
        {
          "output_type": "execute_result",
          "data": {
            "text/plain": [
              "Agency            0\n",
              "Neighborhood      0\n",
              "Price             0\n",
              "link              0\n",
              "sq_mtrs           2\n",
              "Bedrooms          3\n",
              "Bathrooms       291\n",
              "dtype: int64"
            ]
          },
          "metadata": {},
          "execution_count": 114
        }
      ],
      "source": [
        "#Check for null values\n",
        "aparts_df.isnull().sum()"
      ]
    },
    {
      "cell_type": "code",
      "execution_count": null,
      "metadata": {
        "id": "oquPuljWslmp"
      },
      "outputs": [],
      "source": [
        "#We can see that the bathroom column has quite a number of missing values\n",
        "#Lets first remove rows(houses) that dont have sq_mtrs and bedrooms\n",
        "aparts_df.dropna(subset=['sq_mtrs','Bedrooms'],inplace=True)"
      ]
    },
    {
      "cell_type": "code",
      "execution_count": null,
      "metadata": {
        "colab": {
          "base_uri": "https://localhost:8080/",
          "height": 337
        },
        "id": "yNp1kkMnsmdu",
        "outputId": "d07ed52a-68c6-4998-e151-58a2e1e6478d"
      },
      "outputs": [
        {
          "output_type": "execute_result",
          "data": {
            "text/plain": [
              "                   Agency                             Neighborhood   Price  \\\n",
              "0       Buy Rent Shelters              General Mathenge, Westlands  155000   \n",
              "1     Kenya Classic Homes                Kilimani, Dagoretti North  100000   \n",
              "2  Absolute Estate Agents  Hatheru Rd,, Lavington, Dagoretti North   75000   \n",
              "3   A1 Properties Limited                Kilimani, Dagoretti North  135000   \n",
              "4     Pmc Estates Limited                    Imara Daima, Embakasi   50000   \n",
              "\n",
              "                                                link  sq_mtrs  Bedrooms  \\\n",
              "0  /listings/4-bedroom-apartment-for-rent-general...      4.0       4.0   \n",
              "1  /listings/3-bedroom-apartment-for-rent-kiliman...    300.0       3.0   \n",
              "2  /listings/3-bedroom-apartment-for-rent-lavingt...      3.0       3.0   \n",
              "3  /listings/3-bedroom-apartment-for-rent-kiliman...    227.0       3.0   \n",
              "4  /listings/3-bedroom-apartment-for-rent-imara-d...      3.0       3.0   \n",
              "\n",
              "   Bathrooms  \n",
              "0        4.0  \n",
              "1        4.0  \n",
              "2        5.0  \n",
              "3        4.0  \n",
              "4        NaN  "
            ],
            "text/html": [
              "\n",
              "  <div id=\"df-d0a0ce43-1856-4873-bf0a-5904f31959bb\">\n",
              "    <div class=\"colab-df-container\">\n",
              "      <div>\n",
              "<style scoped>\n",
              "    .dataframe tbody tr th:only-of-type {\n",
              "        vertical-align: middle;\n",
              "    }\n",
              "\n",
              "    .dataframe tbody tr th {\n",
              "        vertical-align: top;\n",
              "    }\n",
              "\n",
              "    .dataframe thead th {\n",
              "        text-align: right;\n",
              "    }\n",
              "</style>\n",
              "<table border=\"1\" class=\"dataframe\">\n",
              "  <thead>\n",
              "    <tr style=\"text-align: right;\">\n",
              "      <th></th>\n",
              "      <th>Agency</th>\n",
              "      <th>Neighborhood</th>\n",
              "      <th>Price</th>\n",
              "      <th>link</th>\n",
              "      <th>sq_mtrs</th>\n",
              "      <th>Bedrooms</th>\n",
              "      <th>Bathrooms</th>\n",
              "    </tr>\n",
              "  </thead>\n",
              "  <tbody>\n",
              "    <tr>\n",
              "      <th>0</th>\n",
              "      <td>Buy Rent Shelters</td>\n",
              "      <td>General Mathenge, Westlands</td>\n",
              "      <td>155000</td>\n",
              "      <td>/listings/4-bedroom-apartment-for-rent-general...</td>\n",
              "      <td>4.0</td>\n",
              "      <td>4.0</td>\n",
              "      <td>4.0</td>\n",
              "    </tr>\n",
              "    <tr>\n",
              "      <th>1</th>\n",
              "      <td>Kenya Classic Homes</td>\n",
              "      <td>Kilimani, Dagoretti North</td>\n",
              "      <td>100000</td>\n",
              "      <td>/listings/3-bedroom-apartment-for-rent-kiliman...</td>\n",
              "      <td>300.0</td>\n",
              "      <td>3.0</td>\n",
              "      <td>4.0</td>\n",
              "    </tr>\n",
              "    <tr>\n",
              "      <th>2</th>\n",
              "      <td>Absolute Estate Agents</td>\n",
              "      <td>Hatheru Rd,, Lavington, Dagoretti North</td>\n",
              "      <td>75000</td>\n",
              "      <td>/listings/3-bedroom-apartment-for-rent-lavingt...</td>\n",
              "      <td>3.0</td>\n",
              "      <td>3.0</td>\n",
              "      <td>5.0</td>\n",
              "    </tr>\n",
              "    <tr>\n",
              "      <th>3</th>\n",
              "      <td>A1 Properties Limited</td>\n",
              "      <td>Kilimani, Dagoretti North</td>\n",
              "      <td>135000</td>\n",
              "      <td>/listings/3-bedroom-apartment-for-rent-kiliman...</td>\n",
              "      <td>227.0</td>\n",
              "      <td>3.0</td>\n",
              "      <td>4.0</td>\n",
              "    </tr>\n",
              "    <tr>\n",
              "      <th>4</th>\n",
              "      <td>Pmc Estates Limited</td>\n",
              "      <td>Imara Daima, Embakasi</td>\n",
              "      <td>50000</td>\n",
              "      <td>/listings/3-bedroom-apartment-for-rent-imara-d...</td>\n",
              "      <td>3.0</td>\n",
              "      <td>3.0</td>\n",
              "      <td>NaN</td>\n",
              "    </tr>\n",
              "  </tbody>\n",
              "</table>\n",
              "</div>\n",
              "      <button class=\"colab-df-convert\" onclick=\"convertToInteractive('df-d0a0ce43-1856-4873-bf0a-5904f31959bb')\"\n",
              "              title=\"Convert this dataframe to an interactive table.\"\n",
              "              style=\"display:none;\">\n",
              "        \n",
              "  <svg xmlns=\"http://www.w3.org/2000/svg\" height=\"24px\"viewBox=\"0 0 24 24\"\n",
              "       width=\"24px\">\n",
              "    <path d=\"M0 0h24v24H0V0z\" fill=\"none\"/>\n",
              "    <path d=\"M18.56 5.44l.94 2.06.94-2.06 2.06-.94-2.06-.94-.94-2.06-.94 2.06-2.06.94zm-11 1L8.5 8.5l.94-2.06 2.06-.94-2.06-.94L8.5 2.5l-.94 2.06-2.06.94zm10 10l.94 2.06.94-2.06 2.06-.94-2.06-.94-.94-2.06-.94 2.06-2.06.94z\"/><path d=\"M17.41 7.96l-1.37-1.37c-.4-.4-.92-.59-1.43-.59-.52 0-1.04.2-1.43.59L10.3 9.45l-7.72 7.72c-.78.78-.78 2.05 0 2.83L4 21.41c.39.39.9.59 1.41.59.51 0 1.02-.2 1.41-.59l7.78-7.78 2.81-2.81c.8-.78.8-2.07 0-2.86zM5.41 20L4 18.59l7.72-7.72 1.47 1.35L5.41 20z\"/>\n",
              "  </svg>\n",
              "      </button>\n",
              "      \n",
              "  <style>\n",
              "    .colab-df-container {\n",
              "      display:flex;\n",
              "      flex-wrap:wrap;\n",
              "      gap: 12px;\n",
              "    }\n",
              "\n",
              "    .colab-df-convert {\n",
              "      background-color: #E8F0FE;\n",
              "      border: none;\n",
              "      border-radius: 50%;\n",
              "      cursor: pointer;\n",
              "      display: none;\n",
              "      fill: #1967D2;\n",
              "      height: 32px;\n",
              "      padding: 0 0 0 0;\n",
              "      width: 32px;\n",
              "    }\n",
              "\n",
              "    .colab-df-convert:hover {\n",
              "      background-color: #E2EBFA;\n",
              "      box-shadow: 0px 1px 2px rgba(60, 64, 67, 0.3), 0px 1px 3px 1px rgba(60, 64, 67, 0.15);\n",
              "      fill: #174EA6;\n",
              "    }\n",
              "\n",
              "    [theme=dark] .colab-df-convert {\n",
              "      background-color: #3B4455;\n",
              "      fill: #D2E3FC;\n",
              "    }\n",
              "\n",
              "    [theme=dark] .colab-df-convert:hover {\n",
              "      background-color: #434B5C;\n",
              "      box-shadow: 0px 1px 3px 1px rgba(0, 0, 0, 0.15);\n",
              "      filter: drop-shadow(0px 1px 2px rgba(0, 0, 0, 0.3));\n",
              "      fill: #FFFFFF;\n",
              "    }\n",
              "  </style>\n",
              "\n",
              "      <script>\n",
              "        const buttonEl =\n",
              "          document.querySelector('#df-d0a0ce43-1856-4873-bf0a-5904f31959bb button.colab-df-convert');\n",
              "        buttonEl.style.display =\n",
              "          google.colab.kernel.accessAllowed ? 'block' : 'none';\n",
              "\n",
              "        async function convertToInteractive(key) {\n",
              "          const element = document.querySelector('#df-d0a0ce43-1856-4873-bf0a-5904f31959bb');\n",
              "          const dataTable =\n",
              "            await google.colab.kernel.invokeFunction('convertToInteractive',\n",
              "                                                     [key], {});\n",
              "          if (!dataTable) return;\n",
              "\n",
              "          const docLinkHtml = 'Like what you see? Visit the ' +\n",
              "            '<a target=\"_blank\" href=https://colab.research.google.com/notebooks/data_table.ipynb>data table notebook</a>'\n",
              "            + ' to learn more about interactive tables.';\n",
              "          element.innerHTML = '';\n",
              "          dataTable['output_type'] = 'display_data';\n",
              "          await google.colab.output.renderOutput(dataTable, element);\n",
              "          const docLink = document.createElement('div');\n",
              "          docLink.innerHTML = docLinkHtml;\n",
              "          element.appendChild(docLink);\n",
              "        }\n",
              "      </script>\n",
              "    </div>\n",
              "  </div>\n",
              "  "
            ]
          },
          "metadata": {},
          "execution_count": 116
        }
      ],
      "source": [
        "aparts_df.head()"
      ]
    },
    {
      "cell_type": "code",
      "execution_count": null,
      "metadata": {
        "colab": {
          "base_uri": "https://localhost:8080/",
          "height": 798
        },
        "id": "hOvOcjFNsnBH",
        "outputId": "cb65970b-cf7b-4bf6-e4ba-5c98df4283c3"
      },
      "outputs": [
        {
          "output_type": "execute_result",
          "data": {
            "text/plain": [
              "                                    Agency  \\\n",
              "4                      Pmc Estates Limited   \n",
              "5                        Lizmor Properties   \n",
              "8                      Pmc Estates Limited   \n",
              "19    Real Management Services 2002Limited   \n",
              "36                               Cfs Homes   \n",
              "...                                    ...   \n",
              "1817                   Capstone Properties   \n",
              "1820                     Cloud Real Estate   \n",
              "1833            Rainbow Properties Limited   \n",
              "1843                    Avic International   \n",
              "1847                   Pmc Estates Limited   \n",
              "\n",
              "                                    Neighborhood   Price  \\\n",
              "4                          Imara Daima, Embakasi   50000   \n",
              "5                         Waiyaki Way, Westlands  150000   \n",
              "8                         Thika Road, Thika Road   85000   \n",
              "19           Sports Road, Waiyaki Way, Westlands   13000   \n",
              "36                                Ruaka, Kiambaa   16000   \n",
              "...                                          ...     ...   \n",
              "1817                 General Mathenge, Westlands  175000   \n",
              "1820                 General Mathenge, Westlands  175000   \n",
              "1833                State House, Dagoretti North  180000   \n",
              "1843  Laikipia Road, Kileleshwa, Dagoretti North  180000   \n",
              "1847                   Kilimani, Dagoretti North  180000   \n",
              "\n",
              "                                                   link  sq_mtrs  Bedrooms  \\\n",
              "4     /listings/3-bedroom-apartment-for-rent-imara-d...      3.0       3.0   \n",
              "5     /listings/furnished-2-bedroom-apartment-for-re...      2.0       2.0   \n",
              "8     /listings/4-bedroom-apartment-for-rent-thika-r...      4.0       4.0   \n",
              "19    /listings/studio-apartment-for-rent-waiyaki-wa...      0.0       0.0   \n",
              "36    /listings/1-bedroom-apartment-for-rent-ruaka-3...      1.0       1.0   \n",
              "...                                                 ...      ...       ...   \n",
              "1817  /listings/3-bedroom-apartment-for-rent-general...      3.0       3.0   \n",
              "1820  /listings/4-bedroom-apartment-for-rent-general...      4.0       4.0   \n",
              "1833  /listings/furnished-3-bedroom-apartment-for-re...      3.0       3.0   \n",
              "1843  /listings/3-bedroom-apartment-for-rent-kileles...      3.0       3.0   \n",
              "1847  /listings/2-bedroom-apartment-for-rent-kiliman...      2.0       2.0   \n",
              "\n",
              "      Bathrooms  \n",
              "4           NaN  \n",
              "5           NaN  \n",
              "8           NaN  \n",
              "19          NaN  \n",
              "36          NaN  \n",
              "...         ...  \n",
              "1817        NaN  \n",
              "1820        NaN  \n",
              "1833        NaN  \n",
              "1843        NaN  \n",
              "1847        NaN  \n",
              "\n",
              "[288 rows x 7 columns]"
            ],
            "text/html": [
              "\n",
              "  <div id=\"df-47b2962e-26e4-4124-afc6-2aa2bae880e2\">\n",
              "    <div class=\"colab-df-container\">\n",
              "      <div>\n",
              "<style scoped>\n",
              "    .dataframe tbody tr th:only-of-type {\n",
              "        vertical-align: middle;\n",
              "    }\n",
              "\n",
              "    .dataframe tbody tr th {\n",
              "        vertical-align: top;\n",
              "    }\n",
              "\n",
              "    .dataframe thead th {\n",
              "        text-align: right;\n",
              "    }\n",
              "</style>\n",
              "<table border=\"1\" class=\"dataframe\">\n",
              "  <thead>\n",
              "    <tr style=\"text-align: right;\">\n",
              "      <th></th>\n",
              "      <th>Agency</th>\n",
              "      <th>Neighborhood</th>\n",
              "      <th>Price</th>\n",
              "      <th>link</th>\n",
              "      <th>sq_mtrs</th>\n",
              "      <th>Bedrooms</th>\n",
              "      <th>Bathrooms</th>\n",
              "    </tr>\n",
              "  </thead>\n",
              "  <tbody>\n",
              "    <tr>\n",
              "      <th>4</th>\n",
              "      <td>Pmc Estates Limited</td>\n",
              "      <td>Imara Daima, Embakasi</td>\n",
              "      <td>50000</td>\n",
              "      <td>/listings/3-bedroom-apartment-for-rent-imara-d...</td>\n",
              "      <td>3.0</td>\n",
              "      <td>3.0</td>\n",
              "      <td>NaN</td>\n",
              "    </tr>\n",
              "    <tr>\n",
              "      <th>5</th>\n",
              "      <td>Lizmor Properties</td>\n",
              "      <td>Waiyaki Way, Westlands</td>\n",
              "      <td>150000</td>\n",
              "      <td>/listings/furnished-2-bedroom-apartment-for-re...</td>\n",
              "      <td>2.0</td>\n",
              "      <td>2.0</td>\n",
              "      <td>NaN</td>\n",
              "    </tr>\n",
              "    <tr>\n",
              "      <th>8</th>\n",
              "      <td>Pmc Estates Limited</td>\n",
              "      <td>Thika Road, Thika Road</td>\n",
              "      <td>85000</td>\n",
              "      <td>/listings/4-bedroom-apartment-for-rent-thika-r...</td>\n",
              "      <td>4.0</td>\n",
              "      <td>4.0</td>\n",
              "      <td>NaN</td>\n",
              "    </tr>\n",
              "    <tr>\n",
              "      <th>19</th>\n",
              "      <td>Real Management Services 2002Limited</td>\n",
              "      <td>Sports Road, Waiyaki Way, Westlands</td>\n",
              "      <td>13000</td>\n",
              "      <td>/listings/studio-apartment-for-rent-waiyaki-wa...</td>\n",
              "      <td>0.0</td>\n",
              "      <td>0.0</td>\n",
              "      <td>NaN</td>\n",
              "    </tr>\n",
              "    <tr>\n",
              "      <th>36</th>\n",
              "      <td>Cfs Homes</td>\n",
              "      <td>Ruaka, Kiambaa</td>\n",
              "      <td>16000</td>\n",
              "      <td>/listings/1-bedroom-apartment-for-rent-ruaka-3...</td>\n",
              "      <td>1.0</td>\n",
              "      <td>1.0</td>\n",
              "      <td>NaN</td>\n",
              "    </tr>\n",
              "    <tr>\n",
              "      <th>...</th>\n",
              "      <td>...</td>\n",
              "      <td>...</td>\n",
              "      <td>...</td>\n",
              "      <td>...</td>\n",
              "      <td>...</td>\n",
              "      <td>...</td>\n",
              "      <td>...</td>\n",
              "    </tr>\n",
              "    <tr>\n",
              "      <th>1817</th>\n",
              "      <td>Capstone Properties</td>\n",
              "      <td>General Mathenge, Westlands</td>\n",
              "      <td>175000</td>\n",
              "      <td>/listings/3-bedroom-apartment-for-rent-general...</td>\n",
              "      <td>3.0</td>\n",
              "      <td>3.0</td>\n",
              "      <td>NaN</td>\n",
              "    </tr>\n",
              "    <tr>\n",
              "      <th>1820</th>\n",
              "      <td>Cloud Real Estate</td>\n",
              "      <td>General Mathenge, Westlands</td>\n",
              "      <td>175000</td>\n",
              "      <td>/listings/4-bedroom-apartment-for-rent-general...</td>\n",
              "      <td>4.0</td>\n",
              "      <td>4.0</td>\n",
              "      <td>NaN</td>\n",
              "    </tr>\n",
              "    <tr>\n",
              "      <th>1833</th>\n",
              "      <td>Rainbow Properties Limited</td>\n",
              "      <td>State House, Dagoretti North</td>\n",
              "      <td>180000</td>\n",
              "      <td>/listings/furnished-3-bedroom-apartment-for-re...</td>\n",
              "      <td>3.0</td>\n",
              "      <td>3.0</td>\n",
              "      <td>NaN</td>\n",
              "    </tr>\n",
              "    <tr>\n",
              "      <th>1843</th>\n",
              "      <td>Avic International</td>\n",
              "      <td>Laikipia Road, Kileleshwa, Dagoretti North</td>\n",
              "      <td>180000</td>\n",
              "      <td>/listings/3-bedroom-apartment-for-rent-kileles...</td>\n",
              "      <td>3.0</td>\n",
              "      <td>3.0</td>\n",
              "      <td>NaN</td>\n",
              "    </tr>\n",
              "    <tr>\n",
              "      <th>1847</th>\n",
              "      <td>Pmc Estates Limited</td>\n",
              "      <td>Kilimani, Dagoretti North</td>\n",
              "      <td>180000</td>\n",
              "      <td>/listings/2-bedroom-apartment-for-rent-kiliman...</td>\n",
              "      <td>2.0</td>\n",
              "      <td>2.0</td>\n",
              "      <td>NaN</td>\n",
              "    </tr>\n",
              "  </tbody>\n",
              "</table>\n",
              "<p>288 rows × 7 columns</p>\n",
              "</div>\n",
              "      <button class=\"colab-df-convert\" onclick=\"convertToInteractive('df-47b2962e-26e4-4124-afc6-2aa2bae880e2')\"\n",
              "              title=\"Convert this dataframe to an interactive table.\"\n",
              "              style=\"display:none;\">\n",
              "        \n",
              "  <svg xmlns=\"http://www.w3.org/2000/svg\" height=\"24px\"viewBox=\"0 0 24 24\"\n",
              "       width=\"24px\">\n",
              "    <path d=\"M0 0h24v24H0V0z\" fill=\"none\"/>\n",
              "    <path d=\"M18.56 5.44l.94 2.06.94-2.06 2.06-.94-2.06-.94-.94-2.06-.94 2.06-2.06.94zm-11 1L8.5 8.5l.94-2.06 2.06-.94-2.06-.94L8.5 2.5l-.94 2.06-2.06.94zm10 10l.94 2.06.94-2.06 2.06-.94-2.06-.94-.94-2.06-.94 2.06-2.06.94z\"/><path d=\"M17.41 7.96l-1.37-1.37c-.4-.4-.92-.59-1.43-.59-.52 0-1.04.2-1.43.59L10.3 9.45l-7.72 7.72c-.78.78-.78 2.05 0 2.83L4 21.41c.39.39.9.59 1.41.59.51 0 1.02-.2 1.41-.59l7.78-7.78 2.81-2.81c.8-.78.8-2.07 0-2.86zM5.41 20L4 18.59l7.72-7.72 1.47 1.35L5.41 20z\"/>\n",
              "  </svg>\n",
              "      </button>\n",
              "      \n",
              "  <style>\n",
              "    .colab-df-container {\n",
              "      display:flex;\n",
              "      flex-wrap:wrap;\n",
              "      gap: 12px;\n",
              "    }\n",
              "\n",
              "    .colab-df-convert {\n",
              "      background-color: #E8F0FE;\n",
              "      border: none;\n",
              "      border-radius: 50%;\n",
              "      cursor: pointer;\n",
              "      display: none;\n",
              "      fill: #1967D2;\n",
              "      height: 32px;\n",
              "      padding: 0 0 0 0;\n",
              "      width: 32px;\n",
              "    }\n",
              "\n",
              "    .colab-df-convert:hover {\n",
              "      background-color: #E2EBFA;\n",
              "      box-shadow: 0px 1px 2px rgba(60, 64, 67, 0.3), 0px 1px 3px 1px rgba(60, 64, 67, 0.15);\n",
              "      fill: #174EA6;\n",
              "    }\n",
              "\n",
              "    [theme=dark] .colab-df-convert {\n",
              "      background-color: #3B4455;\n",
              "      fill: #D2E3FC;\n",
              "    }\n",
              "\n",
              "    [theme=dark] .colab-df-convert:hover {\n",
              "      background-color: #434B5C;\n",
              "      box-shadow: 0px 1px 3px 1px rgba(0, 0, 0, 0.15);\n",
              "      filter: drop-shadow(0px 1px 2px rgba(0, 0, 0, 0.3));\n",
              "      fill: #FFFFFF;\n",
              "    }\n",
              "  </style>\n",
              "\n",
              "      <script>\n",
              "        const buttonEl =\n",
              "          document.querySelector('#df-47b2962e-26e4-4124-afc6-2aa2bae880e2 button.colab-df-convert');\n",
              "        buttonEl.style.display =\n",
              "          google.colab.kernel.accessAllowed ? 'block' : 'none';\n",
              "\n",
              "        async function convertToInteractive(key) {\n",
              "          const element = document.querySelector('#df-47b2962e-26e4-4124-afc6-2aa2bae880e2');\n",
              "          const dataTable =\n",
              "            await google.colab.kernel.invokeFunction('convertToInteractive',\n",
              "                                                     [key], {});\n",
              "          if (!dataTable) return;\n",
              "\n",
              "          const docLinkHtml = 'Like what you see? Visit the ' +\n",
              "            '<a target=\"_blank\" href=https://colab.research.google.com/notebooks/data_table.ipynb>data table notebook</a>'\n",
              "            + ' to learn more about interactive tables.';\n",
              "          element.innerHTML = '';\n",
              "          dataTable['output_type'] = 'display_data';\n",
              "          await google.colab.output.renderOutput(dataTable, element);\n",
              "          const docLink = document.createElement('div');\n",
              "          docLink.innerHTML = docLinkHtml;\n",
              "          element.appendChild(docLink);\n",
              "        }\n",
              "      </script>\n",
              "    </div>\n",
              "  </div>\n",
              "  "
            ]
          },
          "metadata": {},
          "execution_count": 117
        }
      ],
      "source": [
        "#check for houses that have missing bathrooms as null values\n",
        "aparts_df[aparts_df['Bathrooms'].isnull()]"
      ]
    },
    {
      "cell_type": "code",
      "execution_count": null,
      "metadata": {
        "colab": {
          "base_uri": "https://localhost:8080/",
          "height": 230
        },
        "id": "sBtgOK5Ur3Ia",
        "outputId": "a26ad96e-eb6a-4701-e06a-3b987c7bf395"
      },
      "outputs": [
        {
          "output_type": "stream",
          "name": "stderr",
          "text": [
            "<ipython-input-118-9d7d44d45699>:3: FutureWarning: The default value of numeric_only in DataFrame.corr is deprecated. In a future version, it will default to False. Select only valid columns or specify the value of numeric_only to silence this warning.\n",
            "  aparts_df.corr()\n"
          ]
        },
        {
          "output_type": "execute_result",
          "data": {
            "text/plain": [
              "              Price   sq_mtrs  Bedrooms  Bathrooms\n",
              "Price      1.000000 -0.026958  0.358538   0.440472\n",
              "sq_mtrs   -0.026958  1.000000 -0.007654   0.003311\n",
              "Bedrooms   0.358538 -0.007654  1.000000   0.731506\n",
              "Bathrooms  0.440472  0.003311  0.731506   1.000000"
            ],
            "text/html": [
              "\n",
              "  <div id=\"df-f33838a2-20bc-4be5-9fe2-f28b05c4c98c\">\n",
              "    <div class=\"colab-df-container\">\n",
              "      <div>\n",
              "<style scoped>\n",
              "    .dataframe tbody tr th:only-of-type {\n",
              "        vertical-align: middle;\n",
              "    }\n",
              "\n",
              "    .dataframe tbody tr th {\n",
              "        vertical-align: top;\n",
              "    }\n",
              "\n",
              "    .dataframe thead th {\n",
              "        text-align: right;\n",
              "    }\n",
              "</style>\n",
              "<table border=\"1\" class=\"dataframe\">\n",
              "  <thead>\n",
              "    <tr style=\"text-align: right;\">\n",
              "      <th></th>\n",
              "      <th>Price</th>\n",
              "      <th>sq_mtrs</th>\n",
              "      <th>Bedrooms</th>\n",
              "      <th>Bathrooms</th>\n",
              "    </tr>\n",
              "  </thead>\n",
              "  <tbody>\n",
              "    <tr>\n",
              "      <th>Price</th>\n",
              "      <td>1.000000</td>\n",
              "      <td>-0.026958</td>\n",
              "      <td>0.358538</td>\n",
              "      <td>0.440472</td>\n",
              "    </tr>\n",
              "    <tr>\n",
              "      <th>sq_mtrs</th>\n",
              "      <td>-0.026958</td>\n",
              "      <td>1.000000</td>\n",
              "      <td>-0.007654</td>\n",
              "      <td>0.003311</td>\n",
              "    </tr>\n",
              "    <tr>\n",
              "      <th>Bedrooms</th>\n",
              "      <td>0.358538</td>\n",
              "      <td>-0.007654</td>\n",
              "      <td>1.000000</td>\n",
              "      <td>0.731506</td>\n",
              "    </tr>\n",
              "    <tr>\n",
              "      <th>Bathrooms</th>\n",
              "      <td>0.440472</td>\n",
              "      <td>0.003311</td>\n",
              "      <td>0.731506</td>\n",
              "      <td>1.000000</td>\n",
              "    </tr>\n",
              "  </tbody>\n",
              "</table>\n",
              "</div>\n",
              "      <button class=\"colab-df-convert\" onclick=\"convertToInteractive('df-f33838a2-20bc-4be5-9fe2-f28b05c4c98c')\"\n",
              "              title=\"Convert this dataframe to an interactive table.\"\n",
              "              style=\"display:none;\">\n",
              "        \n",
              "  <svg xmlns=\"http://www.w3.org/2000/svg\" height=\"24px\"viewBox=\"0 0 24 24\"\n",
              "       width=\"24px\">\n",
              "    <path d=\"M0 0h24v24H0V0z\" fill=\"none\"/>\n",
              "    <path d=\"M18.56 5.44l.94 2.06.94-2.06 2.06-.94-2.06-.94-.94-2.06-.94 2.06-2.06.94zm-11 1L8.5 8.5l.94-2.06 2.06-.94-2.06-.94L8.5 2.5l-.94 2.06-2.06.94zm10 10l.94 2.06.94-2.06 2.06-.94-2.06-.94-.94-2.06-.94 2.06-2.06.94z\"/><path d=\"M17.41 7.96l-1.37-1.37c-.4-.4-.92-.59-1.43-.59-.52 0-1.04.2-1.43.59L10.3 9.45l-7.72 7.72c-.78.78-.78 2.05 0 2.83L4 21.41c.39.39.9.59 1.41.59.51 0 1.02-.2 1.41-.59l7.78-7.78 2.81-2.81c.8-.78.8-2.07 0-2.86zM5.41 20L4 18.59l7.72-7.72 1.47 1.35L5.41 20z\"/>\n",
              "  </svg>\n",
              "      </button>\n",
              "      \n",
              "  <style>\n",
              "    .colab-df-container {\n",
              "      display:flex;\n",
              "      flex-wrap:wrap;\n",
              "      gap: 12px;\n",
              "    }\n",
              "\n",
              "    .colab-df-convert {\n",
              "      background-color: #E8F0FE;\n",
              "      border: none;\n",
              "      border-radius: 50%;\n",
              "      cursor: pointer;\n",
              "      display: none;\n",
              "      fill: #1967D2;\n",
              "      height: 32px;\n",
              "      padding: 0 0 0 0;\n",
              "      width: 32px;\n",
              "    }\n",
              "\n",
              "    .colab-df-convert:hover {\n",
              "      background-color: #E2EBFA;\n",
              "      box-shadow: 0px 1px 2px rgba(60, 64, 67, 0.3), 0px 1px 3px 1px rgba(60, 64, 67, 0.15);\n",
              "      fill: #174EA6;\n",
              "    }\n",
              "\n",
              "    [theme=dark] .colab-df-convert {\n",
              "      background-color: #3B4455;\n",
              "      fill: #D2E3FC;\n",
              "    }\n",
              "\n",
              "    [theme=dark] .colab-df-convert:hover {\n",
              "      background-color: #434B5C;\n",
              "      box-shadow: 0px 1px 3px 1px rgba(0, 0, 0, 0.15);\n",
              "      filter: drop-shadow(0px 1px 2px rgba(0, 0, 0, 0.3));\n",
              "      fill: #FFFFFF;\n",
              "    }\n",
              "  </style>\n",
              "\n",
              "      <script>\n",
              "        const buttonEl =\n",
              "          document.querySelector('#df-f33838a2-20bc-4be5-9fe2-f28b05c4c98c button.colab-df-convert');\n",
              "        buttonEl.style.display =\n",
              "          google.colab.kernel.accessAllowed ? 'block' : 'none';\n",
              "\n",
              "        async function convertToInteractive(key) {\n",
              "          const element = document.querySelector('#df-f33838a2-20bc-4be5-9fe2-f28b05c4c98c');\n",
              "          const dataTable =\n",
              "            await google.colab.kernel.invokeFunction('convertToInteractive',\n",
              "                                                     [key], {});\n",
              "          if (!dataTable) return;\n",
              "\n",
              "          const docLinkHtml = 'Like what you see? Visit the ' +\n",
              "            '<a target=\"_blank\" href=https://colab.research.google.com/notebooks/data_table.ipynb>data table notebook</a>'\n",
              "            + ' to learn more about interactive tables.';\n",
              "          element.innerHTML = '';\n",
              "          dataTable['output_type'] = 'display_data';\n",
              "          await google.colab.output.renderOutput(dataTable, element);\n",
              "          const docLink = document.createElement('div');\n",
              "          docLink.innerHTML = docLinkHtml;\n",
              "          element.appendChild(docLink);\n",
              "        }\n",
              "      </script>\n",
              "    </div>\n",
              "  </div>\n",
              "  "
            ]
          },
          "metadata": {},
          "execution_count": 118
        }
      ],
      "source": [
        "#Let's check the correlation\n",
        "#we see the bathroom column has a good correlation with the price column\n",
        "aparts_df.corr()"
      ]
    },
    {
      "cell_type": "code",
      "execution_count": null,
      "metadata": {
        "colab": {
          "base_uri": "https://localhost:8080/"
        },
        "id": "KiUKWS7LtUsD",
        "outputId": "3a59906f-851b-46b5-fa2d-e2add72f931f"
      },
      "outputs": [
        {
          "output_type": "execute_result",
          "data": {
            "text/plain": [
              "0       4.0\n",
              "1       4.0\n",
              "2       5.0\n",
              "3       4.0\n",
              "4       3.0\n",
              "       ... \n",
              "1843    3.0\n",
              "1844    2.0\n",
              "1845    5.0\n",
              "1846    4.0\n",
              "1847    2.0\n",
              "Name: Bathrooms, Length: 1845, dtype: float64"
            ]
          },
          "metadata": {},
          "execution_count": 119
        }
      ],
      "source": [
        "\n",
        "#We shall group the houses by the number of bedrooms and fill the missing values\n",
        "#with the mean of the bathrooms in each group, rounded to whole numbers\n",
        "aparts_df.groupby('Bedrooms')['Bathrooms'].transform(lambda x: x.fillna(round(x.mean())))"
      ]
    },
    {
      "cell_type": "code",
      "execution_count": null,
      "metadata": {
        "id": "v1QYq-sXtVNb"
      },
      "outputs": [],
      "source": [
        "aparts_df['Bathrooms'] = aparts_df.groupby('Bedrooms')['Bathrooms'].transform(lambda x: x.fillna(round(x.mean())))"
      ]
    },
    {
      "cell_type": "code",
      "execution_count": null,
      "metadata": {
        "colab": {
          "base_uri": "https://localhost:8080/"
        },
        "id": "YfE7dVyutVtx",
        "outputId": "8ea8f6a3-6837-41d5-b81b-8ea3eae186b2"
      },
      "outputs": [
        {
          "output_type": "execute_result",
          "data": {
            "text/plain": [
              "Agency          0\n",
              "Neighborhood    0\n",
              "Price           0\n",
              "link            0\n",
              "sq_mtrs         0\n",
              "Bedrooms        0\n",
              "Bathrooms       0\n",
              "dtype: int64"
            ]
          },
          "metadata": {},
          "execution_count": 121
        }
      ],
      "source": [
        "#Recheck for missing values\n",
        "aparts_df.isnull().sum()"
      ]
    },
    {
      "cell_type": "code",
      "execution_count": null,
      "metadata": {
        "id": "-_rGfqk1oGtW"
      },
      "outputs": [],
      "source": [
        "#Notice that we won't need some of the columns to train our model; those are Agency, Neighborhood, and links.\n",
        "#You also notice that sq_mtrs column is not correlated with any of the columns in our data.\n",
        "#Remove non-required columns\n",
        "del aparts_df[\"Agency\"]\n",
        "del aparts_df[\"Neighborhood\"]\n",
        "del aparts_df[\"link\"] \n",
        "del aparts_df[\"sq_mtrs\"]"
      ]
    },
    {
      "cell_type": "markdown",
      "metadata": {
        "id": "gBtaaKkASlHF"
      },
      "source": [
        "# Visualising the data\n",
        "\n",
        "\n"
      ]
    },
    {
      "cell_type": "code",
      "execution_count": null,
      "metadata": {
        "colab": {
          "base_uri": "https://localhost:8080/",
          "height": 523
        },
        "id": "ltmSwwGHuCgq",
        "outputId": "2b55e041-1536-4ad3-dc12-36b23a3d3be4"
      },
      "outputs": [
        {
          "output_type": "execute_result",
          "data": {
            "text/plain": [
              "<seaborn.axisgrid.FacetGrid at 0x7f289295cc40>"
            ]
          },
          "metadata": {},
          "execution_count": 123
        },
        {
          "output_type": "display_data",
          "data": {
            "text/plain": [
              "<Figure size 500x500 with 1 Axes>"
            ],
            "image/png": "[encoded data removed]"
          },
          "metadata": {}
        }
      ],
      "source": [
        "#Lets first check the distribution of the price column\n",
        "sns.displot(aparts_df['Price'])"
      ]
    },
    {
      "cell_type": "code",
      "execution_count": null,
      "metadata": {
        "colab": {
          "base_uri": "https://localhost:8080/",
          "height": 206
        },
        "id": "qSNtN_IouDXR",
        "outputId": "3b0df043-d876-46a1-aa22-c159b366aef4"
      },
      "outputs": [
        {
          "output_type": "execute_result",
          "data": {
            "text/plain": [
              "      Price  Bedrooms  Bathrooms\n",
              "14   220000       3.0        3.0\n",
              "34   200000       3.0        3.0\n",
              "64   280000       3.0        3.0\n",
              "94   200000       5.0        5.0\n",
              "158  240000       3.0        2.0"
            ],
            "text/html": [
              "\n",
              "  <div id=\"df-eaa30067-ba7c-4f01-8173-6b99c6da15ec\">\n",
              "    <div class=\"colab-df-container\">\n",
              "      <div>\n",
              "<style scoped>\n",
              "    .dataframe tbody tr th:only-of-type {\n",
              "        vertical-align: middle;\n",
              "    }\n",
              "\n",
              "    .dataframe tbody tr th {\n",
              "        vertical-align: top;\n",
              "    }\n",
              "\n",
              "    .dataframe thead th {\n",
              "        text-align: right;\n",
              "    }\n",
              "</style>\n",
              "<table border=\"1\" class=\"dataframe\">\n",
              "  <thead>\n",
              "    <tr style=\"text-align: right;\">\n",
              "      <th></th>\n",
              "      <th>Price</th>\n",
              "      <th>Bedrooms</th>\n",
              "      <th>Bathrooms</th>\n",
              "    </tr>\n",
              "  </thead>\n",
              "  <tbody>\n",
              "    <tr>\n",
              "      <th>14</th>\n",
              "      <td>220000</td>\n",
              "      <td>3.0</td>\n",
              "      <td>3.0</td>\n",
              "    </tr>\n",
              "    <tr>\n",
              "      <th>34</th>\n",
              "      <td>200000</td>\n",
              "      <td>3.0</td>\n",
              "      <td>3.0</td>\n",
              "    </tr>\n",
              "    <tr>\n",
              "      <th>64</th>\n",
              "      <td>280000</td>\n",
              "      <td>3.0</td>\n",
              "      <td>3.0</td>\n",
              "    </tr>\n",
              "    <tr>\n",
              "      <th>94</th>\n",
              "      <td>200000</td>\n",
              "      <td>5.0</td>\n",
              "      <td>5.0</td>\n",
              "    </tr>\n",
              "    <tr>\n",
              "      <th>158</th>\n",
              "      <td>240000</td>\n",
              "      <td>3.0</td>\n",
              "      <td>2.0</td>\n",
              "    </tr>\n",
              "  </tbody>\n",
              "</table>\n",
              "</div>\n",
              "      <button class=\"colab-df-convert\" onclick=\"convertToInteractive('df-eaa30067-ba7c-4f01-8173-6b99c6da15ec')\"\n",
              "              title=\"Convert this dataframe to an interactive table.\"\n",
              "              style=\"display:none;\">\n",
              "        \n",
              "  <svg xmlns=\"http://www.w3.org/2000/svg\" height=\"24px\"viewBox=\"0 0 24 24\"\n",
              "       width=\"24px\">\n",
              "    <path d=\"M0 0h24v24H0V0z\" fill=\"none\"/>\n",
              "    <path d=\"M18.56 5.44l.94 2.06.94-2.06 2.06-.94-2.06-.94-.94-2.06-.94 2.06-2.06.94zm-11 1L8.5 8.5l.94-2.06 2.06-.94-2.06-.94L8.5 2.5l-.94 2.06-2.06.94zm10 10l.94 2.06.94-2.06 2.06-.94-2.06-.94-.94-2.06-.94 2.06-2.06.94z\"/><path d=\"M17.41 7.96l-1.37-1.37c-.4-.4-.92-.59-1.43-.59-.52 0-1.04.2-1.43.59L10.3 9.45l-7.72 7.72c-.78.78-.78 2.05 0 2.83L4 21.41c.39.39.9.59 1.41.59.51 0 1.02-.2 1.41-.59l7.78-7.78 2.81-2.81c.8-.78.8-2.07 0-2.86zM5.41 20L4 18.59l7.72-7.72 1.47 1.35L5.41 20z\"/>\n",
              "  </svg>\n",
              "      </button>\n",
              "      \n",
              "  <style>\n",
              "    .colab-df-container {\n",
              "      display:flex;\n",
              "      flex-wrap:wrap;\n",
              "      gap: 12px;\n",
              "    }\n",
              "\n",
              "    .colab-df-convert {\n",
              "      background-color: #E8F0FE;\n",
              "      border: none;\n",
              "      border-radius: 50%;\n",
              "      cursor: pointer;\n",
              "      display: none;\n",
              "      fill: #1967D2;\n",
              "      height: 32px;\n",
              "      padding: 0 0 0 0;\n",
              "      width: 32px;\n",
              "    }\n",
              "\n",
              "    .colab-df-convert:hover {\n",
              "      background-color: #E2EBFA;\n",
              "      box-shadow: 0px 1px 2px rgba(60, 64, 67, 0.3), 0px 1px 3px 1px rgba(60, 64, 67, 0.15);\n",
              "      fill: #174EA6;\n",
              "    }\n",
              "\n",
              "    [theme=dark] .colab-df-convert {\n",
              "      background-color: #3B4455;\n",
              "      fill: #D2E3FC;\n",
              "    }\n",
              "\n",
              "    [theme=dark] .colab-df-convert:hover {\n",
              "      background-color: #434B5C;\n",
              "      box-shadow: 0px 1px 3px 1px rgba(0, 0, 0, 0.15);\n",
              "      filter: drop-shadow(0px 1px 2px rgba(0, 0, 0, 0.3));\n",
              "      fill: #FFFFFF;\n",
              "    }\n",
              "  </style>\n",
              "\n",
              "      <script>\n",
              "        const buttonEl =\n",
              "          document.querySelector('#df-eaa30067-ba7c-4f01-8173-6b99c6da15ec button.colab-df-convert');\n",
              "        buttonEl.style.display =\n",
              "          google.colab.kernel.accessAllowed ? 'block' : 'none';\n",
              "\n",
              "        async function convertToInteractive(key) {\n",
              "          const element = document.querySelector('#df-eaa30067-ba7c-4f01-8173-6b99c6da15ec');\n",
              "          const dataTable =\n",
              "            await google.colab.kernel.invokeFunction('convertToInteractive',\n",
              "                                                     [key], {});\n",
              "          if (!dataTable) return;\n",
              "\n",
              "          const docLinkHtml = 'Like what you see? Visit the ' +\n",
              "            '<a target=\"_blank\" href=https://colab.research.google.com/notebooks/data_table.ipynb>data table notebook</a>'\n",
              "            + ' to learn more about interactive tables.';\n",
              "          element.innerHTML = '';\n",
              "          dataTable['output_type'] = 'display_data';\n",
              "          await google.colab.output.renderOutput(dataTable, element);\n",
              "          const docLink = document.createElement('div');\n",
              "          docLink.innerHTML = docLinkHtml;\n",
              "          element.appendChild(docLink);\n",
              "        }\n",
              "      </script>\n",
              "    </div>\n",
              "  </div>\n",
              "  "
            ]
          },
          "metadata": {},
          "execution_count": 124
        }
      ],
      "source": [
        "#lets check the houses that are outliers (200000 and above))\n",
        "aparts_df[aparts_df['Price']>=200000]"
      ]
    },
    {
      "cell_type": "code",
      "execution_count": null,
      "metadata": {
        "colab": {
          "base_uri": "https://localhost:8080/",
          "height": 466
        },
        "id": "-QkvELYUuDin",
        "outputId": "b45af4cb-2fb9-4dbc-d5ae-c2ad65d7bff7"
      },
      "outputs": [
        {
          "output_type": "execute_result",
          "data": {
            "text/plain": [
              "<Axes: xlabel='Bedrooms', ylabel='Price'>"
            ]
          },
          "metadata": {},
          "execution_count": 125
        },
        {
          "output_type": "display_data",
          "data": {
            "text/plain": [
              "<Figure size 640x480 with 1 Axes>"
            ],
            "image/png": "[encoded data removed]"
          },
          "metadata": {}
        }
      ],
      "source": [
        "#scatterplot for price  and bedrooms by bathrooms\n",
        "sns.scatterplot(x='Bedrooms',y='Price',data=aparts_df,hue='Bathrooms')"
      ]
    },
    {
      "cell_type": "code",
      "execution_count": null,
      "metadata": {
        "id": "B93-5tsPuDtT"
      },
      "outputs": [],
      "source": [
        "#we notice that the houses  are expensive when they have more bedrooms and bathrooms\n",
        "#Lets check the scatterplot of the sq_mtrs column with price\n",
        "#sns.scatterplot(x='sq_mtrs',y='Price',data=aparts_df)"
      ]
    },
    {
      "cell_type": "code",
      "execution_count": null,
      "metadata": {
        "id": "sXzqTgPOuD3m"
      },
      "outputs": [],
      "source": [
        "#Lets drop houses with 0 sq_mtrs, for more accurate data\n",
        "#aparts_df.drop(aparts_df[aparts_df['sq_mtrs']==0].index,inplace=True)"
      ]
    },
    {
      "cell_type": "code",
      "execution_count": null,
      "metadata": {
        "colab": {
          "base_uri": "https://localhost:8080/",
          "height": 775
        },
        "id": "AaPhVorWv5vl",
        "outputId": "d638f293-24b9-476d-f9e7-5f7547906b56"
      },
      "outputs": [
        {
          "output_type": "execute_result",
          "data": {
            "text/plain": [
              "<seaborn.axisgrid.PairGrid at 0x7f28920f6f40>"
            ]
          },
          "metadata": {},
          "execution_count": 126
        },
        {
          "output_type": "display_data",
          "data": {
            "text/plain": [
              "<Figure size 750x750 with 12 Axes>"
            ],
            "image/png": "[encoded data removed]"
          },
          "metadata": {}
        }
      ],
      "source": [
        "#generate a pairplot on price, bedrooms, bathrooms and sq_mtrs\n",
        "sns.pairplot(aparts_df[['Price','Bedrooms','Bathrooms']])"
      ]
    },
    {
      "cell_type": "markdown",
      "metadata": {
        "id": "igzTfTj_wVIS"
      },
      "source": [
        "## Conclusion\n",
        "The houses with more bedrooms and bathrooms are more expensive\n"
      ]
    },
    {
      "cell_type": "code",
      "execution_count": null,
      "metadata": {
        "colab": {
          "base_uri": "https://localhost:8080/"
        },
        "id": "ipYh5BfbnWeH",
        "outputId": "0c04d1e2-79fb-47f1-f777-a686c0f47da5"
      },
      "outputs": [
        {
          "output_type": "stream",
          "name": "stdout",
          "text": [
            "<class 'pandas.core.frame.DataFrame'>\n",
            "Int64Index: 1845 entries, 0 to 1847\n",
            "Data columns (total 3 columns):\n",
            " #   Column     Non-Null Count  Dtype  \n",
            "---  ------     --------------  -----  \n",
            " 0   Price      1845 non-null   int64  \n",
            " 1   Bedrooms   1845 non-null   float64\n",
            " 2   Bathrooms  1845 non-null   float64\n",
            "dtypes: float64(2), int64(1)\n",
            "memory usage: 57.7 KB\n"
          ]
        }
      ],
      "source": [
        "aparts_df.info()"
      ]
    },
    {
      "cell_type": "markdown",
      "metadata": {
        "id": "6DkliCmnmoVu"
      },
      "source": [
        "# Set features and labels"
      ]
    },
    {
      "cell_type": "code",
      "execution_count": null,
      "metadata": {
        "id": "JWCU0nrdv5yc"
      },
      "outputs": [],
      "source": [
        "X = aparts_df[[\"Bedrooms\", \"Bathrooms\"]]\n",
        "y = aparts_df[[\"Price\"]]"
      ]
    },
    {
      "cell_type": "markdown",
      "metadata": {
        "id": "o5dAnd3ZDe72"
      },
      "source": [
        "# Define the model and train it"
      ]
    },
    {
      "cell_type": "code",
      "execution_count": null,
      "metadata": {
        "colab": {
          "base_uri": "https://localhost:8080/",
          "height": 75
        },
        "id": "yDzgbew_v51U",
        "outputId": "238264fc-44bf-46b9-ad6f-f95b6379e1a4"
      },
      "outputs": [
        {
          "output_type": "execute_result",
          "data": {
            "text/plain": [
              "DecisionTreeRegressor()"
            ],
            "text/html": [
              "<style>#sk-container-id-3 {color: black;background-color: white;}#sk-container-id-3 pre{padding: 0;}#sk-container-id-3 div.sk-toggleable {background-color: white;}#sk-container-id-3 label.sk-toggleable__label {cursor: pointer;display: block;width: 100%;margin-bottom: 0;padding: 0.3em;box-sizing: border-box;text-align: center;}#sk-container-id-3 label.sk-toggleable__label-arrow:before {content: \"▸\";float: left;margin-right: 0.25em;color: #696969;}#sk-container-id-3 label.sk-toggleable__label-arrow:hover:before {color: black;}#sk-container-id-3 div.sk-estimator:hover label.sk-toggleable__label-arrow:before {color: black;}#sk-container-id-3 div.sk-toggleable__content {max-height: 0;max-width: 0;overflow: hidden;text-align: left;background-color: #f0f8ff;}#sk-container-id-3 div.sk-toggleable__content pre {margin: 0.2em;color: black;border-radius: 0.25em;background-color: #f0f8ff;}#sk-container-id-3 input.sk-toggleable__control:checked~div.sk-toggleable__content {max-height: 200px;max-width: 100%;overflow: auto;}#sk-container-id-3 input.sk-toggleable__control:checked~label.sk-toggleable__label-arrow:before {content: \"▾\";}#sk-container-id-3 div.sk-estimator input.sk-toggleable__control:checked~label.sk-toggleable__label {background-color: #d4ebff;}#sk-container-id-3 div.sk-label input.sk-toggleable__control:checked~label.sk-toggleable__label {background-color: #d4ebff;}#sk-container-id-3 input.sk-hidden--visually {border: 0;clip: rect(1px 1px 1px 1px);clip: rect(1px, 1px, 1px, 1px);height: 1px;margin: -1px;overflow: hidden;padding: 0;position: absolute;width: 1px;}#sk-container-id-3 div.sk-estimator {font-family: monospace;background-color: #f0f8ff;border: 1px dotted black;border-radius: 0.25em;box-sizing: border-box;margin-bottom: 0.5em;}#sk-container-id-3 div.sk-estimator:hover {background-color: #d4ebff;}#sk-container-id-3 div.sk-parallel-item::after {content: \"\";width: 100%;border-bottom: 1px solid gray;flex-grow: 1;}#sk-container-id-3 div.sk-label:hover label.sk-toggleable__label {background-color: #d4ebff;}#sk-container-id-3 div.sk-serial::before {content: \"\";position: absolute;border-left: 1px solid gray;box-sizing: border-box;top: 0;bottom: 0;left: 50%;z-index: 0;}#sk-container-id-3 div.sk-serial {display: flex;flex-direction: column;align-items: center;background-color: white;padding-right: 0.2em;padding-left: 0.2em;position: relative;}#sk-container-id-3 div.sk-item {position: relative;z-index: 1;}#sk-container-id-3 div.sk-parallel {display: flex;align-items: stretch;justify-content: center;background-color: white;position: relative;}#sk-container-id-3 div.sk-item::before, #sk-container-id-3 div.sk-parallel-item::before {content: \"\";position: absolute;border-left: 1px solid gray;box-sizing: border-box;top: 0;bottom: 0;left: 50%;z-index: -1;}#sk-container-id-3 div.sk-parallel-item {display: flex;flex-direction: column;z-index: 1;position: relative;background-color: white;}#sk-container-id-3 div.sk-parallel-item:first-child::after {align-self: flex-end;width: 50%;}#sk-container-id-3 div.sk-parallel-item:last-child::after {align-self: flex-start;width: 50%;}#sk-container-id-3 div.sk-parallel-item:only-child::after {width: 0;}#sk-container-id-3 div.sk-dashed-wrapped {border: 1px dashed gray;margin: 0 0.4em 0.5em 0.4em;box-sizing: border-box;padding-bottom: 0.4em;background-color: white;}#sk-container-id-3 div.sk-label label {font-family: monospace;font-weight: bold;display: inline-block;line-height: 1.2em;}#sk-container-id-3 div.sk-label-container {text-align: center;}#sk-container-id-3 div.sk-container {/* jupyter's `normalize.less` sets `[hidden] { display: none; }` but bootstrap.min.css set `[hidden] { display: none !important; }` so we also need the `!important` here to be able to override the default hidden behavior on the sphinx rendered scikit-learn.org. See: https://github.com/scikit-learn/scikit-learn/issues/21755 */display: inline-block !important;position: relative;}#sk-container-id-3 div.sk-text-repr-fallback {display: none;}</style><div id=\"sk-container-id-3\" class=\"sk-top-container\"><div class=\"sk-text-repr-fallback\"><pre>DecisionTreeRegressor()</pre><b>In a Jupyter environment, please rerun this cell to show the HTML representation or trust the notebook. <br />On GitHub, the HTML representation is unable to render, please try loading this page with nbviewer.org.</b></div><div class=\"sk-container\" hidden><div class=\"sk-item\"><div class=\"sk-estimator sk-toggleable\"><input class=\"sk-toggleable__control sk-hidden--visually\" id=\"sk-estimator-id-3\" type=\"checkbox\" checked><label for=\"sk-estimator-id-3\" class=\"sk-toggleable__label sk-toggleable__label-arrow\">DecisionTreeRegressor</label><div class=\"sk-toggleable__content\"><pre>DecisionTreeRegressor()</pre></div></div></div></div></div>"
            ]
          },
          "metadata": {},
          "execution_count": 129
        }
      ],
      "source": [
        "#Spliting the data into training and testing the set\n",
        "X_train, X_test, y_train, y_test = train_test_split(X, y, test_size = 0.2, random_state = 20)\n",
        "#Train the regression model using the training data \n",
        "clf = DecisionTreeRegressor()\n",
        "clf.fit(X_train, y_train)"
      ]
    },
    {
      "cell_type": "markdown",
      "metadata": {
        "id": "whIrmdS79KK8"
      },
      "source": [
        "# Prediction and accuracy"
      ]
    },
    {
      "cell_type": "code",
      "execution_count": null,
      "metadata": {
        "id": "DyaT87nE9Dzo"
      },
      "outputs": [],
      "source": [
        "#Predictions using the testing set \n",
        "y_pred = clf.predict(X_test)\n",
        "\n",
        "# #Example of few predictions\n",
        "# print(\"Making predictions for the following 5 houses:\")\n",
        "# print(X.head())\n",
        "# print(\"The predictions are\")\n",
        "# five_pred= clf.predict(X_test)[:5]\n",
        "\n",
        "# five_pred"
      ]
    },
    {
      "cell_type": "code",
      "execution_count": null,
      "metadata": {
        "colab": {
          "base_uri": "https://localhost:8080/"
        },
        "id": "eNgh68VPJQ7b",
        "outputId": "63a6fe7d-719c-42b2-915b-be1b77b7f0ea"
      },
      "outputs": [
        {
          "output_type": "stream",
          "name": "stdout",
          "text": [
            "(369, 2)\n",
            "(369, 1)\n",
            "(369,)\n"
          ]
        }
      ],
      "source": [
        "print(X_test.shape)\n",
        "print(y_test.shape)\n",
        "print(y_pred.shape)\n"
      ]
    },
    {
      "cell_type": "code",
      "execution_count": null,
      "metadata": {
        "id": "KZTvjC0_FS9h"
      },
      "outputs": [],
      "source": [
        "# print(\"Making predictions for the following 5 houses:\")\n",
        "# print(X.head())\n",
        "# print(\"The predictions are\")\n",
        "# str(y_test[:5])"
      ]
    },
    {
      "cell_type": "code",
      "execution_count": null,
      "metadata": {
        "colab": {
          "base_uri": "https://localhost:8080/"
        },
        "id": "7DN1rz0Sv54K",
        "outputId": "0e1461ce-1ad7-4584-d2c9-4ebd40a10530"
      },
      "outputs": [
        {
          "output_type": "stream",
          "name": "stdout",
          "text": [
            "Mean squared error:  2011395620.897012\n",
            "Root Mean Squared error 44848.58549494077\n",
            "Mean absolute error:  36970.72219650803\n",
            "R-squared score:  -0.19964906224717005\n"
          ]
        }
      ],
      "source": [
        "#Checking the accuracy of the model using MSE,MAE and R-squared error\n",
        "\n",
        "from sklearn.metrics import mean_squared_error, mean_absolute_error, r2_score\n",
        "\n",
        "print('Mean squared error: ', mean_squared_error(y_test, y_pred))\n",
        "print(\"Root Mean Squared error\", np.sqrt(mean_squared_error(y_test, y_pred)))\n",
        "print('Mean absolute error: ', mean_absolute_error(y_test, y_pred))\n",
        "print('R-squared score: ', r2_score(y_test, y_pred))\n"
      ]
    },
    {
      "cell_type": "code",
      "execution_count": null,
      "metadata": {
        "id": "l1MKxOdYwOjo"
      },
      "outputs": [],
      "source": [
        "# trying new model\n",
        "from sklearn.ensemble import RandomForestRegressor\n",
        "from sklearn.linear_model import SGDRegressor\n",
        "from sklearn.pipeline import make_pipeline\n",
        "from sklearn.preprocessing import StandardScaler\n",
        "\n",
        "# Always scale the input. The most convenient way is to use a pipeline.\n",
        "clf = make_pipeline(StandardScaler(),\n",
        "                     SGDRegressor(max_iter=1000, tol=1e-3, loss=\"squared_error\"))\n"
      ]
    },
    {
      "cell_type": "code",
      "source": [
        "clf.fit(X_train, y_train)\n",
        "forestPred = clf.predict(X_test)\n",
        "forestScores = clf.score(X_test, y_test)\n",
        "forestScores"
      ],
      "metadata": {
        "colab": {
          "base_uri": "https://localhost:8080/"
        },
        "id": "3FK0AbcY0BvK",
        "outputId": "93e00986-a3a9-4c83-e232-23f141b80542"
      },
      "execution_count": null,
      "outputs": [
        {
          "output_type": "stream",
          "name": "stderr",
          "text": [
            "/usr/local/lib/python3.9/dist-packages/sklearn/utils/validation.py:1143: DataConversionWarning: A column-vector y was passed when a 1d array was expected. Please change the shape of y to (n_samples, ), for example using ravel().\n",
            "  y = column_or_1d(y, warn=True)\n"
          ]
        },
        {
          "output_type": "execute_result",
          "data": {
            "text/plain": [
              "0.24033716227251667"
            ]
          },
          "metadata": {},
          "execution_count": 140
        }
      ]
    },
    {
      "cell_type": "code",
      "source": [
        "mse = mean_squared_error(y_test, y_pred)\n",
        "rmse = np.sqrt(mse)\n",
        "rmse"
      ],
      "metadata": {
        "colab": {
          "base_uri": "https://localhost:8080/"
        },
        "id": "e8mPwcYuBLjX",
        "outputId": "455325e4-03cd-4f9d-e013-56bc53ac8ade"
      },
      "execution_count": null,
      "outputs": [
        {
          "output_type": "execute_result",
          "data": {
            "text/plain": [
              "44848.58549494077"
            ]
          },
          "metadata": {},
          "execution_count": 141
        }
      ]
    },
    {
      "cell_type": "code",
      "execution_count": null,
      "metadata": {
        "colab": {
          "base_uri": "https://localhost:8080/",
          "height": 472
        },
        "id": "UdOBLh6ov57x",
        "outputId": "817f1a98-20ce-4e73-a9a9-e98f26b510b5"
      },
      "outputs": [
        {
          "output_type": "display_data",
          "data": {
            "text/plain": [
              "<Figure size 640x480 with 1 Axes>"
            ],
            "image/png": "[encoded data removed]"
          },
          "metadata": {}
        }
      ],
      "source": [
        "#using a scatter plot to visualize how well the model is perfoming\n",
        "import matplotlib.pyplot as plt\n",
        "\n",
        "plt.scatter(y_test, y_pred)\n",
        "plt.xlabel('Actual values')\n",
        "plt.ylabel('Predicted values')\n",
        "plt.title('Actual vs Predicted values')\n",
        "plt.show()\n"
      ]
    },
    {
      "cell_type": "code",
      "execution_count": null,
      "metadata": {
        "id": "sB8a-Mx1qZxe"
      },
      "outputs": [],
      "source": [
        "# from sklearn.model_selection import cross_val_score\n",
        "#  #Cross-validate the model\n",
        "#  #Perform cross-validation on the model\n",
        "# scores = cross_val_score(clf, X, y, cv=5, scoring='neg_mean_squared_error')\n",
        "# rmse_scores = np.sqrt(-scores)\n",
        "\n",
        "#  # Display the cross-validation scores\n",
        "# print('Cross-Validation Scores:', rmse_scores)\n",
        "# print('Mean:', rmse_scores.mean())\n",
        "# print('Standard deviation:', rmse_scores.std())\n"
      ]
    },
    {
      "cell_type": "code",
      "execution_count": null,
      "metadata": {
        "id": "fCRB5A8b8ZHt"
      },
      "outputs": [],
      "source": []
    }
  ],
  "metadata": {
    "colab": {
      "provenance": []
    },
    "kernelspec": {
      "display_name": "Python 3",
      "name": "python3"
    },
    "language_info": {
      "name": "python"
    }
  },
  "nbformat": 4,
  "nbformat_minor": 0
}