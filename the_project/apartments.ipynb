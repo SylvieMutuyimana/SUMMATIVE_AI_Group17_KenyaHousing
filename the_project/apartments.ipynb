{
  "cells": [
    {
      "cell_type": "markdown",
      "metadata": {},
      "source": [
        "Importing required libraries"
      ]
    },
    {
      "cell_type": "code",
      "execution_count": 14,
      "metadata": {
        "id": "eDD7ZQ2h31bf"
      },
      "outputs": [],
      "source": [
        "import pandas as pd\n",
        "import numpy as np\n",
        "import pandas as pd\n",
        "import matplotlib.pyplot as plt\n",
        "import seaborn as sns\n",
        "from sklearn.model_selection import train_test_split\n",
        "from sklearn.tree import DecisionTreeRegressor\n",
        "from sklearn.preprocessing import OneHotEncoder\n",
        "import matplotlib.pyplot as plt\n",
        "import joblib"
      ]
    },
    {
      "cell_type": "markdown",
      "metadata": {
        "id": "hNKKClpT7L5B"
      },
      "source": [
        "Loading the dataset"
      ]
    },
    {
      "cell_type": "code",
      "execution_count": 15,
      "metadata": {
        "id": "aiu0QtPV47Q3"
      },
      "outputs": [
        {
          "data": {
            "text/plain": [
              "Index(['Unnamed: 0', 'title', 'location', 'bedrooms', 'bathrooms', 'price',\n",
              "       'rate'],\n",
              "      dtype='object')"
            ]
          },
          "execution_count": 15,
          "metadata": {},
          "output_type": "execute_result"
        }
      ],
      "source": [
        "df_aparts = pd.read_csv('apartments.csv')\n",
        "df_aparts.columns"
      ]
    },
    {
      "cell_type": "code",
      "execution_count": 16,
      "metadata": {},
      "outputs": [
        {
          "data": {
            "text/html": [
              "<div>\n",
              "<style scoped>\n",
              "    .dataframe tbody tr th:only-of-type {\n",
              "        vertical-align: middle;\n",
              "    }\n",
              "\n",
              "    .dataframe tbody tr th {\n",
              "        vertical-align: top;\n",
              "    }\n",
              "\n",
              "    .dataframe thead th {\n",
              "        text-align: right;\n",
              "    }\n",
              "</style>\n",
              "<table border=\"1\" class=\"dataframe\">\n",
              "  <thead>\n",
              "    <tr style=\"text-align: right;\">\n",
              "      <th></th>\n",
              "      <th>Unnamed: 0</th>\n",
              "      <th>title</th>\n",
              "      <th>location</th>\n",
              "      <th>bedrooms</th>\n",
              "      <th>bathrooms</th>\n",
              "      <th>price</th>\n",
              "      <th>rate</th>\n",
              "    </tr>\n",
              "  </thead>\n",
              "  <tbody>\n",
              "    <tr>\n",
              "      <th>0</th>\n",
              "      <td>0</td>\n",
              "      <td>3 Bedroom Apartment / Flat to rent in Riverside</td>\n",
              "      <td>Riverside Dr Nairobi, Riverside, Nairobi</td>\n",
              "      <td>3</td>\n",
              "      <td>3</td>\n",
              "      <td>200 000</td>\n",
              "      <td>Per Month</td>\n",
              "    </tr>\n",
              "    <tr>\n",
              "      <th>1</th>\n",
              "      <td>1</td>\n",
              "      <td>3 Bedroom Apartment / Flat to rent in Kileleshwa</td>\n",
              "      <td>Kileleshwa, Nairobi</td>\n",
              "      <td>3</td>\n",
              "      <td>4</td>\n",
              "      <td>70 000</td>\n",
              "      <td>Per Month</td>\n",
              "    </tr>\n",
              "    <tr>\n",
              "      <th>2</th>\n",
              "      <td>2</td>\n",
              "      <td>3 Bedroom Apartment / Flat to rent in Nyali</td>\n",
              "      <td>Links Rd Mombasa, Nyali, Mombasa</td>\n",
              "      <td>3</td>\n",
              "      <td>2</td>\n",
              "      <td>38 000</td>\n",
              "      <td>Per Month</td>\n",
              "    </tr>\n",
              "    <tr>\n",
              "      <th>3</th>\n",
              "      <td>3</td>\n",
              "      <td>3 Bedroom Apartment / Flat to rent in Lavington</td>\n",
              "      <td>Near Valley Arcade, Lavington, Nairobi</td>\n",
              "      <td>3</td>\n",
              "      <td>3</td>\n",
              "      <td>80 000</td>\n",
              "      <td>Per Month</td>\n",
              "    </tr>\n",
              "    <tr>\n",
              "      <th>4</th>\n",
              "      <td>4</td>\n",
              "      <td>1 Bedroom Apartment / Flat to rent in Kileleshwa</td>\n",
              "      <td>Kileleshwa, Nairobi</td>\n",
              "      <td>1</td>\n",
              "      <td>1</td>\n",
              "      <td>110 000</td>\n",
              "      <td>Per Month</td>\n",
              "    </tr>\n",
              "  </tbody>\n",
              "</table>\n",
              "</div>"
            ],
            "text/plain": [
              "   Unnamed: 0                                             title   \n",
              "0           0   3 Bedroom Apartment / Flat to rent in Riverside  \\\n",
              "1           1  3 Bedroom Apartment / Flat to rent in Kileleshwa   \n",
              "2           2       3 Bedroom Apartment / Flat to rent in Nyali   \n",
              "3           3   3 Bedroom Apartment / Flat to rent in Lavington   \n",
              "4           4  1 Bedroom Apartment / Flat to rent in Kileleshwa   \n",
              "\n",
              "                                   location  bedrooms  bathrooms     price   \n",
              "0  Riverside Dr Nairobi, Riverside, Nairobi         3          3   200 000  \\\n",
              "1                       Kileleshwa, Nairobi         3          4    70 000   \n",
              "2          Links Rd Mombasa, Nyali, Mombasa         3          2    38 000   \n",
              "3    Near Valley Arcade, Lavington, Nairobi         3          3    80 000   \n",
              "4                       Kileleshwa, Nairobi         1          1   110 000   \n",
              "\n",
              "        rate  \n",
              "0  Per Month  \n",
              "1  Per Month  \n",
              "2  Per Month  \n",
              "3  Per Month  \n",
              "4  Per Month  "
            ]
          },
          "execution_count": 16,
          "metadata": {},
          "output_type": "execute_result"
        }
      ],
      "source": [
        "df_aparts.head(5)"
      ]
    },
    {
      "cell_type": "markdown",
      "metadata": {
        "id": "fKUuuZeH7mr6"
      },
      "source": [
        "Exploring the dataset"
      ]
    },
    {
      "cell_type": "code",
      "execution_count": 17,
      "metadata": {
        "id": "uyUrE4yc-UFS"
      },
      "outputs": [
        {
          "data": {
            "text/plain": [
              "(2520, 7)"
            ]
          },
          "execution_count": 17,
          "metadata": {},
          "output_type": "execute_result"
        }
      ],
      "source": [
        "#Shape of the dataset, rows and columns respectively.\n",
        "df_aparts.shape"
      ]
    },
    {
      "cell_type": "code",
      "execution_count": 18,
      "metadata": {
        "id": "b2iYY2W-7pa0"
      },
      "outputs": [
        {
          "name": "stdout",
          "output_type": "stream",
          "text": [
            "<class 'pandas.core.frame.DataFrame'>\n",
            "RangeIndex: 2520 entries, 0 to 2519\n",
            "Data columns (total 7 columns):\n",
            " #   Column      Non-Null Count  Dtype \n",
            "---  ------      --------------  ----- \n",
            " 0   Unnamed: 0  2520 non-null   int64 \n",
            " 1   title       2520 non-null   object\n",
            " 2   location    2144 non-null   object\n",
            " 3   bedrooms    2520 non-null   int64 \n",
            " 4   bathrooms   2520 non-null   int64 \n",
            " 5   price       2520 non-null   object\n",
            " 6   rate        2520 non-null   object\n",
            "dtypes: int64(3), object(4)\n",
            "memory usage: 137.9+ KB\n"
          ]
        }
      ],
      "source": [
        "df_aparts.info()"
      ]
    },
    {
      "cell_type": "code",
      "execution_count": 19,
      "metadata": {},
      "outputs": [
        {
          "data": {
            "text/plain": [
              "Unnamed: 0      0\n",
              "title           0\n",
              "location      376\n",
              "bedrooms        0\n",
              "bathrooms       0\n",
              "price           0\n",
              "rate            0\n",
              "dtype: int64"
            ]
          },
          "execution_count": 19,
          "metadata": {},
          "output_type": "execute_result"
        }
      ],
      "source": [
        "df_aparts.drop(columns=['Unnamed: 0'])\n",
        "df_aparts.columns\n",
        "df_aparts.isnull().sum()"
      ]
    },
    {
      "cell_type": "markdown",
      "metadata": {
        "id": "0AR-MGpBGd5v"
      },
      "source": [
        "# Data cleaning and wrangling"
      ]
    },
    {
      "cell_type": "code",
      "execution_count": 20,
      "metadata": {},
      "outputs": [
        {
          "name": "stdout",
          "output_type": "stream",
          "text": [
            "0      3 Bedroom Apartment / Flat to rent in Riverside\n",
            "1     3 Bedroom Apartment / Flat to rent in Kileleshwa\n",
            "2          3 Bedroom Apartment / Flat to rent in Nyali\n",
            "3      3 Bedroom Apartment / Flat to rent in Lavington\n",
            "4     1 Bedroom Apartment / Flat to rent in Kileleshwa\n",
            "5    4 Bedroom Apartment / Flat to rent in Kahawa W...\n",
            "6       2 Bedroom Apartment / Flat to rent in Kilimani\n",
            "7      3 Bedroom Apartment / Flat to rent in Westlands\n",
            "8          1 Bedroom Apartment / Flat to rent in Nyali\n",
            "9       4 Bedroom Apartment / Flat to rent in Muthaiga\n",
            "Name: title, dtype: object\n"
          ]
        }
      ],
      "source": [
        "print(df_aparts['title'].head(10))"
      ]
    },
    {
      "cell_type": "code",
      "execution_count": 21,
      "metadata": {
        "id": "gcHGKbBOrEnZ"
      },
      "outputs": [
        {
          "name": "stdout",
          "output_type": "stream",
          "text": [
            "0           Riverside\n",
            "1          Kileleshwa\n",
            "2               Nyali\n",
            "3           Lavington\n",
            "4          Kileleshwa\n",
            "            ...      \n",
            "2515         Kilimani\n",
            "2516            Nyali\n",
            "2517    Spring Valley\n",
            "2518         Muthaiga\n",
            "2519        Westlands\n",
            "Name: title, Length: 2520, dtype: object\n",
            "Number of unique values: 12\n"
          ]
        }
      ],
      "source": [
        "import re\n",
        "# Cleaning the location\n",
        "df_aparts['title'] = df_aparts['title'].apply(lambda x: re.sub(r'^\\d+ Bedroom Apartment / Flat to rent in ', '', x))\n",
        "print(df_aparts['title'])\n",
        "print('Number of unique values:', df_aparts['title'].nunique())"
      ]
    },
    {
      "cell_type": "code",
      "execution_count": 22,
      "metadata": {},
      "outputs": [
        {
          "name": "stdout",
          "output_type": "stream",
          "text": [
            "Number of None values:  0\n"
          ]
        }
      ],
      "source": [
        "df_aparts = df_aparts.drop('location', axis=1)\n",
        "df_aparts.isnull().sum()\n",
        "num_none_values = df_aparts.isnull().sum().sum()\n",
        "print(\"Number of None values: \", num_none_values)"
      ]
    },
    {
      "cell_type": "code",
      "execution_count": 23,
      "metadata": {},
      "outputs": [
        {
          "data": {
            "text/plain": [
              "Index(['Unnamed: 0', 'Town', 'Bedrooms', 'Bathrooms', 'Price', 'rate'], dtype='object')"
            ]
          },
          "execution_count": 23,
          "metadata": {},
          "output_type": "execute_result"
        }
      ],
      "source": [
        "#Renaming the columns\n",
        "df_aparts.rename(columns={'title': 'Town'}, inplace=True)\n",
        "df_aparts.rename(columns={'bedrooms': 'Bedrooms'}, inplace=True)\n",
        "df_aparts.rename(columns={'bathrooms': 'Bathrooms'}, inplace=True)\n",
        "df_aparts.rename(columns={'price': 'Price'}, inplace=True)\n",
        "df_aparts.columns"
      ]
    },
    {
      "cell_type": "code",
      "execution_count": 24,
      "metadata": {},
      "outputs": [
        {
          "name": "stdout",
          "output_type": "stream",
          "text": [
            "           rate     Price\n",
            "0     Per Month   200 000\n",
            "1     Per Month    70 000\n",
            "2     Per Month    38 000\n",
            "3     Per Month    80 000\n",
            "4     Per Month   110 000\n",
            "...         ...       ...\n",
            "2515  Per Month    75 000\n",
            "2516  Per Month    45 000\n",
            "2517  Per Month    65 000\n",
            "2518  Per Month   300 000\n",
            "2519  Per Month   100 000\n",
            "\n",
            "[2520 rows x 2 columns]\n"
          ]
        }
      ],
      "source": [
        "print(df_aparts[['rate', 'Price']])"
      ]
    },
    {
      "cell_type": "code",
      "execution_count": 25,
      "metadata": {},
      "outputs": [
        {
          "name": "stdout",
          "output_type": "stream",
          "text": [
            "           rate   Price\n",
            "0     Per Month  200000\n",
            "1     Per Month   70000\n",
            "2     Per Month   38000\n",
            "3     Per Month   80000\n",
            "4     Per Month  110000\n",
            "...         ...     ...\n",
            "2515  Per Month   75000\n",
            "2516  Per Month   45000\n",
            "2517  Per Month   65000\n",
            "2518  Per Month  300000\n",
            "2519  Per Month  100000\n",
            "\n",
            "[2520 rows x 2 columns]\n"
          ]
        }
      ],
      "source": [
        "# Remove non-numeric characters and whitespace from the \"Price\" column\n",
        "df_aparts['Price'] = df_aparts['Price'].str.replace('[^\\d]+', '', regex=True)\n",
        "# Convert the column to integers\n",
        "df_aparts['Price'] = pd.to_numeric(df_aparts['Price'], errors='coerce').astype('Int64')\n",
        "# Print the rate and Price columns to check the output\n",
        "print(df_aparts[['rate', 'Price']])"
      ]
    },
    {
      "cell_type": "code",
      "execution_count": 26,
      "metadata": {},
      "outputs": [
        {
          "name": "stdout",
          "output_type": "stream",
          "text": [
            "           rate   Price\n",
            "0     Per Month  200000\n",
            "1     Per Month   70000\n",
            "2     Per Month   38000\n",
            "3     Per Month   80000\n",
            "4     Per Month  110000\n",
            "...         ...     ...\n",
            "2515  Per Month   75000\n",
            "2516  Per Month   45000\n",
            "2517  Per Month   65000\n",
            "2518  Per Month  300000\n",
            "2519  Per Month  100000\n",
            "\n",
            "[2520 rows x 2 columns]\n"
          ]
        }
      ],
      "source": [
        "# Drop rows with NaN values in the \"Price\" column\n",
        "df_aparts.dropna(subset=['Price'], inplace=True)\n",
        "# Print the rate and Price columns to check the output\n",
        "print(df_aparts[['rate', 'Price']])"
      ]
    },
    {
      "cell_type": "code",
      "execution_count": 27,
      "metadata": {},
      "outputs": [
        {
          "name": "stdout",
          "output_type": "stream",
          "text": [
            "['Per Month' 'Per Day']\n"
          ]
        }
      ],
      "source": [
        "# Print the unique values for is called \"Rate\"\n",
        "print(df_aparts['rate'].unique())"
      ]
    },
    {
      "cell_type": "code",
      "execution_count": 28,
      "metadata": {},
      "outputs": [
        {
          "name": "stdout",
          "output_type": "stream",
          "text": [
            "For Months:  2395\n",
            "For Days:  125\n"
          ]
        }
      ],
      "source": [
        "np_days = len(df_aparts[df_aparts['rate'] == 'Per Month'])\n",
        "print(\"For Months: \", np_days)\n",
        "np_months = len(df_aparts[df_aparts['rate'] == 'Per Day'])\n",
        "print(\"For Days: \", np_months)"
      ]
    },
    {
      "cell_type": "code",
      "execution_count": 33,
      "metadata": {},
      "outputs": [
        {
          "name": "stdout",
          "output_type": "stream",
          "text": [
            "0     200000\n",
            "1      70000\n",
            "2      38000\n",
            "3      80000\n",
            "4     110000\n",
            "5      57750\n",
            "6      65000\n",
            "7      78000\n",
            "8    4500000\n",
            "9     300000\n",
            "Name: Price, dtype: int32\n"
          ]
        }
      ],
      "source": [
        "df_aparts.loc[df_aparts['rate'] == 'Per Day', 'Price'] *= 30\n",
        "print(df_aparts['Price'].head(10))\n",
        "df_aparts = df_aparts.drop('rate', axis=1)"
      ]
    },
    {
      "cell_type": "code",
      "execution_count": 34,
      "metadata": {},
      "outputs": [
        {
          "name": "stdout",
          "output_type": "stream",
          "text": [
            "Unnamed: 0     int64\n",
            "Town          object\n",
            "Bedrooms       int32\n",
            "Bathrooms      int32\n",
            "Price          int32\n",
            "dtype: object\n"
          ]
        }
      ],
      "source": [
        "df_aparts['Bedrooms'] = df_aparts['Bedrooms'].astype(int)\n",
        "df_aparts['Bathrooms'] = df_aparts['Bathrooms'].astype(int)\n",
        "df_aparts['Price'] = df_aparts['Price'].astype(int)\n",
        "print(df_aparts.dtypes)"
      ]
    },
    {
      "cell_type": "code",
      "execution_count": 35,
      "metadata": {
        "id": "YfE7dVyutVtx"
      },
      "outputs": [
        {
          "data": {
            "text/plain": [
              "Unnamed: 0    0\n",
              "Town          0\n",
              "Bedrooms      0\n",
              "Bathrooms     0\n",
              "Price         0\n",
              "dtype: int64"
            ]
          },
          "execution_count": 35,
          "metadata": {},
          "output_type": "execute_result"
        }
      ],
      "source": [
        "#check for missing values\n",
        "df_aparts.isnull().sum()"
      ]
    },
    {
      "cell_type": "markdown",
      "metadata": {
        "id": "gBtaaKkASlHF"
      },
      "source": [
        "# Visualising the data\n",
        "\n",
        "\n"
      ]
    },
    {
      "cell_type": "code",
      "execution_count": 37,
      "metadata": {
        "id": "ltmSwwGHuCgq"
      },
      "outputs": [
        {
          "data": {
            "text/plain": [
              "<seaborn.axisgrid.FacetGrid at 0x1c3842a6550>"
            ]
          },
          "execution_count": 37,
          "metadata": {},
          "output_type": "execute_result"
        },
        {
          "data": {
            "image/png": "[encoded data removed]",
            "text/plain": [
              "<Figure size 500x500 with 1 Axes>"
            ]
          },
          "metadata": {},
          "output_type": "display_data"
        }
      ],
      "source": [
        "#Lets first check the distribution of the Price column\n",
        "sns.displot(df_aparts['Price'])"
      ]
    },
    {
      "cell_type": "code",
      "execution_count": 38,
      "metadata": {
        "id": "B93-5tsPuDtT"
      },
      "outputs": [
        {
          "data": {
            "text/plain": [
              "<Axes: xlabel='Bedrooms', ylabel='Price'>"
            ]
          },
          "execution_count": 38,
          "metadata": {},
          "output_type": "execute_result"
        },
        {
          "data": {
            "image/png": "[encoded data removed]",
            "text/plain": [
              "<Figure size 640x480 with 1 Axes>"
            ]
          },
          "metadata": {},
          "output_type": "display_data"
        }
      ],
      "source": [
        "#scatterplot for price  and Bedrooms colored by Bathrooms\n",
        "sns.scatterplot(x='Bedrooms',y='Price',data=df_aparts,hue='Bathrooms')"
      ]
    },
    {
      "attachments": {},
      "cell_type": "markdown",
      "metadata": {
        "id": "igzTfTj_wVIS"
      },
      "source": [
        "## Conclusion\n",
        "The houses with more Bedrooms and Bathrooms are more expensive\n"
      ]
    },
    {
      "cell_type": "code",
      "execution_count": 39,
      "metadata": {
        "id": "ipYh5BfbnWeH"
      },
      "outputs": [
        {
          "name": "stdout",
          "output_type": "stream",
          "text": [
            "<class 'pandas.core.frame.DataFrame'>\n",
            "RangeIndex: 2520 entries, 0 to 2519\n",
            "Data columns (total 5 columns):\n",
            " #   Column      Non-Null Count  Dtype \n",
            "---  ------      --------------  ----- \n",
            " 0   Unnamed: 0  2520 non-null   int64 \n",
            " 1   Town        2520 non-null   object\n",
            " 2   Bedrooms    2520 non-null   int32 \n",
            " 3   Bathrooms   2520 non-null   int32 \n",
            " 4   Price       2520 non-null   int32 \n",
            "dtypes: int32(3), int64(1), object(1)\n",
            "memory usage: 69.0+ KB\n"
          ]
        }
      ],
      "source": [
        "df_aparts.info()"
      ]
    },
    {
      "cell_type": "code",
      "execution_count": 41,
      "metadata": {},
      "outputs": [
        {
          "data": {
            "text/plain": [
              "<seaborn.axisgrid.PairGrid at 0x1c386cb39d0>"
            ]
          },
          "execution_count": 41,
          "metadata": {},
          "output_type": "execute_result"
        },
        {
          "data": {
            "image/png": "[encoded data removed]",
            "text/plain": [
              "<Figure size 750x750 with 12 Axes>"
            ]
          },
          "metadata": {},
          "output_type": "display_data"
        }
      ],
      "source": [
        "#generate a pairplot on price, Bedrooms, Bathrooms and sq_mtrs\n",
        "sns.pairplot(df_aparts[['Price','Bedrooms','Bathrooms','Town']])"
      ]
    },
    {
      "cell_type": "code",
      "execution_count": 42,
      "metadata": {},
      "outputs": [],
      "source": [
        "#The houses with more Bedrooms and bathrooms are more expensive\n",
        "#The houses with more the specified day price are more expensive"
      ]
    },
    {
      "cell_type": "code",
      "execution_count": 43,
      "metadata": {},
      "outputs": [
        {
          "data": {
            "text/plain": [
              "12"
            ]
          },
          "execution_count": 43,
          "metadata": {},
          "output_type": "execute_result"
        }
      ],
      "source": [
        "#check for the towns\n",
        "df_aparts['Town'].nunique()"
      ]
    },
    {
      "cell_type": "code",
      "execution_count": 45,
      "metadata": {},
      "outputs": [
        {
          "data": {
            "text/plain": [
              "<Axes: xlabel='Town'>"
            ]
          },
          "execution_count": 45,
          "metadata": {},
          "output_type": "execute_result"
        },
        {
          "data": {
            "image/png": "[encoded data removed]",
            "text/plain": [
              "<Figure size 640x480 with 1 Axes>"
            ]
          },
          "metadata": {},
          "output_type": "display_data"
        }
      ],
      "source": [
        "#grouby the towns and get the mean price,plot it\n",
        "df_aparts.groupby('Town')['Price'].mean().sort_values(ascending=False).plot(kind='bar')"
      ]
    },
    {
      "cell_type": "code",
      "execution_count": 46,
      "metadata": {},
      "outputs": [
        {
          "data": {
            "text/plain": [
              "<matplotlib.legend.Legend at 0x1c387f1a7d0>"
            ]
          },
          "execution_count": 46,
          "metadata": {},
          "output_type": "execute_result"
        },
        {
          "data": {
            "image/png": "[encoded data removed]",
            "text/plain": [
              "<Figure size 1000x600 with 1 Axes>"
            ]
          },
          "metadata": {},
          "output_type": "display_data"
        }
      ],
      "source": [
        "plt.figure(figsize=(10,6))\n",
        "sns.scatterplot(x='Bedrooms',y='Price',data=df_aparts,hue='Town')\n",
        "plt.legend(bbox_to_anchor=(1.05, 1), loc=2, borderaxespad=0.)"
      ]
    },
    {
      "cell_type": "code",
      "execution_count": 47,
      "metadata": {},
      "outputs": [
        {
          "data": {
            "text/plain": [
              "<matplotlib.legend.Legend at 0x1c3880104d0>"
            ]
          },
          "execution_count": 47,
          "metadata": {},
          "output_type": "execute_result"
        },
        {
          "data": {
            "image/png": "[encoded data removed]",
            "text/plain": [
              "<Figure size 1000x600 with 1 Axes>"
            ]
          },
          "metadata": {},
          "output_type": "display_data"
        }
      ],
      "source": [
        "plt.figure(figsize=(10,6))\n",
        "sns.scatterplot(x='Bathrooms',y='Price',data=df_aparts,hue='Town')\n",
        "plt.legend(bbox_to_anchor=(1.05, 1), loc=2, borderaxespad=0.)"
      ]
    },
    {
      "cell_type": "code",
      "execution_count": 48,
      "metadata": {},
      "outputs": [
        {
          "data": {
            "text/html": [
              "<div>\n",
              "<style scoped>\n",
              "    .dataframe tbody tr th:only-of-type {\n",
              "        vertical-align: middle;\n",
              "    }\n",
              "\n",
              "    .dataframe tbody tr th {\n",
              "        vertical-align: top;\n",
              "    }\n",
              "\n",
              "    .dataframe thead th {\n",
              "        text-align: right;\n",
              "    }\n",
              "</style>\n",
              "<table border=\"1\" class=\"dataframe\">\n",
              "  <thead>\n",
              "    <tr style=\"text-align: right;\">\n",
              "      <th></th>\n",
              "      <th>Unnamed: 0</th>\n",
              "      <th>Town</th>\n",
              "      <th>Bedrooms</th>\n",
              "      <th>Bathrooms</th>\n",
              "      <th>Price</th>\n",
              "    </tr>\n",
              "  </thead>\n",
              "  <tbody>\n",
              "    <tr>\n",
              "      <th>5</th>\n",
              "      <td>5</td>\n",
              "      <td>Kahawa Wendani</td>\n",
              "      <td>4</td>\n",
              "      <td>2</td>\n",
              "      <td>57750</td>\n",
              "    </tr>\n",
              "    <tr>\n",
              "      <th>9</th>\n",
              "      <td>9</td>\n",
              "      <td>Muthaiga</td>\n",
              "      <td>4</td>\n",
              "      <td>5</td>\n",
              "      <td>300000</td>\n",
              "    </tr>\n",
              "    <tr>\n",
              "      <th>11</th>\n",
              "      <td>11</td>\n",
              "      <td>Westlands</td>\n",
              "      <td>4</td>\n",
              "      <td>2</td>\n",
              "      <td>165000</td>\n",
              "    </tr>\n",
              "    <tr>\n",
              "      <th>27</th>\n",
              "      <td>27</td>\n",
              "      <td>Kahawa Wendani</td>\n",
              "      <td>4</td>\n",
              "      <td>2</td>\n",
              "      <td>57750</td>\n",
              "    </tr>\n",
              "    <tr>\n",
              "      <th>30</th>\n",
              "      <td>30</td>\n",
              "      <td>Muthaiga</td>\n",
              "      <td>4</td>\n",
              "      <td>5</td>\n",
              "      <td>300000</td>\n",
              "    </tr>\n",
              "    <tr>\n",
              "      <th>...</th>\n",
              "      <td>...</td>\n",
              "      <td>...</td>\n",
              "      <td>...</td>\n",
              "      <td>...</td>\n",
              "      <td>...</td>\n",
              "    </tr>\n",
              "    <tr>\n",
              "      <th>2489</th>\n",
              "      <td>2489</td>\n",
              "      <td>Westlands</td>\n",
              "      <td>4</td>\n",
              "      <td>2</td>\n",
              "      <td>165000</td>\n",
              "    </tr>\n",
              "    <tr>\n",
              "      <th>2504</th>\n",
              "      <td>2504</td>\n",
              "      <td>Kahawa Wendani</td>\n",
              "      <td>4</td>\n",
              "      <td>2</td>\n",
              "      <td>57750</td>\n",
              "    </tr>\n",
              "    <tr>\n",
              "      <th>2507</th>\n",
              "      <td>2507</td>\n",
              "      <td>Muthaiga</td>\n",
              "      <td>4</td>\n",
              "      <td>5</td>\n",
              "      <td>300000</td>\n",
              "    </tr>\n",
              "    <tr>\n",
              "      <th>2509</th>\n",
              "      <td>2509</td>\n",
              "      <td>Westlands</td>\n",
              "      <td>4</td>\n",
              "      <td>2</td>\n",
              "      <td>165000</td>\n",
              "    </tr>\n",
              "    <tr>\n",
              "      <th>2518</th>\n",
              "      <td>2518</td>\n",
              "      <td>Muthaiga</td>\n",
              "      <td>4</td>\n",
              "      <td>5</td>\n",
              "      <td>300000</td>\n",
              "    </tr>\n",
              "  </tbody>\n",
              "</table>\n",
              "<p>380 rows × 5 columns</p>\n",
              "</div>"
            ],
            "text/plain": [
              "      Unnamed: 0            Town  Bedrooms  Bathrooms   Price\n",
              "5              5  Kahawa Wendani         4          2   57750\n",
              "9              9        Muthaiga         4          5  300000\n",
              "11            11       Westlands         4          2  165000\n",
              "27            27  Kahawa Wendani         4          2   57750\n",
              "30            30        Muthaiga         4          5  300000\n",
              "...          ...             ...       ...        ...     ...\n",
              "2489        2489       Westlands         4          2  165000\n",
              "2504        2504  Kahawa Wendani         4          2   57750\n",
              "2507        2507        Muthaiga         4          5  300000\n",
              "2509        2509       Westlands         4          2  165000\n",
              "2518        2518        Muthaiga         4          5  300000\n",
              "\n",
              "[380 rows x 5 columns]"
            ]
          },
          "execution_count": 48,
          "metadata": {},
          "output_type": "execute_result"
        }
      ],
      "source": [
        "#Lets check the houses with the most bedrooms\n",
        "df_aparts[df_aparts['Bedrooms']==df_aparts['Bedrooms'].max()]"
      ]
    },
    {
      "cell_type": "markdown",
      "metadata": {
        "id": "6DkliCmnmoVu"
      },
      "source": [
        "# Set features and labels"
      ]
    },
    {
      "cell_type": "code",
      "execution_count": 50,
      "metadata": {
        "id": "JWCU0nrdv5yc"
      },
      "outputs": [],
      "source": [
        "X = df_aparts[[\"Bedrooms\", \"Bathrooms\",\"Town\"]]\n",
        "y = df_aparts[[\"Price\"]]"
      ]
    },
    {
      "cell_type": "markdown",
      "metadata": {
        "id": "o5dAnd3ZDe72"
      },
      "source": [
        "# Define the model and train it"
      ]
    },
    {
      "cell_type": "code",
      "execution_count": 51,
      "metadata": {
        "id": "yDzgbew_v51U"
      },
      "outputs": [],
      "source": [
        "# Extract the numerical features and categorical feature\n",
        "X_num = df_aparts[[\"Bedrooms\", \"Bathrooms\"]]\n",
        "X_cat = df_aparts[[\"Town\"]]"
      ]
    },
    {
      "cell_type": "code",
      "execution_count": 52,
      "metadata": {},
      "outputs": [
        {
          "data": {
            "text/html": [
              "<style>#sk-container-id-1 {color: black;background-color: white;}#sk-container-id-1 pre{padding: 0;}#sk-container-id-1 div.sk-toggleable {background-color: white;}#sk-container-id-1 label.sk-toggleable__label {cursor: pointer;display: block;width: 100%;margin-bottom: 0;padding: 0.3em;box-sizing: border-box;text-align: center;}#sk-container-id-1 label.sk-toggleable__label-arrow:before {content: \"▸\";float: left;margin-right: 0.25em;color: #696969;}#sk-container-id-1 label.sk-toggleable__label-arrow:hover:before {color: black;}#sk-container-id-1 div.sk-estimator:hover label.sk-toggleable__label-arrow:before {color: black;}#sk-container-id-1 div.sk-toggleable__content {max-height: 0;max-width: 0;overflow: hidden;text-align: left;background-color: #f0f8ff;}#sk-container-id-1 div.sk-toggleable__content pre {margin: 0.2em;color: black;border-radius: 0.25em;background-color: #f0f8ff;}#sk-container-id-1 input.sk-toggleable__control:checked~div.sk-toggleable__content {max-height: 200px;max-width: 100%;overflow: auto;}#sk-container-id-1 input.sk-toggleable__control:checked~label.sk-toggleable__label-arrow:before {content: \"▾\";}#sk-container-id-1 div.sk-estimator input.sk-toggleable__control:checked~label.sk-toggleable__label {background-color: #d4ebff;}#sk-container-id-1 div.sk-label input.sk-toggleable__control:checked~label.sk-toggleable__label {background-color: #d4ebff;}#sk-container-id-1 input.sk-hidden--visually {border: 0;clip: rect(1px 1px 1px 1px);clip: rect(1px, 1px, 1px, 1px);height: 1px;margin: -1px;overflow: hidden;padding: 0;position: absolute;width: 1px;}#sk-container-id-1 div.sk-estimator {font-family: monospace;background-color: #f0f8ff;border: 1px dotted black;border-radius: 0.25em;box-sizing: border-box;margin-bottom: 0.5em;}#sk-container-id-1 div.sk-estimator:hover {background-color: #d4ebff;}#sk-container-id-1 div.sk-parallel-item::after {content: \"\";width: 100%;border-bottom: 1px solid gray;flex-grow: 1;}#sk-container-id-1 div.sk-label:hover label.sk-toggleable__label {background-color: #d4ebff;}#sk-container-id-1 div.sk-serial::before {content: \"\";position: absolute;border-left: 1px solid gray;box-sizing: border-box;top: 0;bottom: 0;left: 50%;z-index: 0;}#sk-container-id-1 div.sk-serial {display: flex;flex-direction: column;align-items: center;background-color: white;padding-right: 0.2em;padding-left: 0.2em;position: relative;}#sk-container-id-1 div.sk-item {position: relative;z-index: 1;}#sk-container-id-1 div.sk-parallel {display: flex;align-items: stretch;justify-content: center;background-color: white;position: relative;}#sk-container-id-1 div.sk-item::before, #sk-container-id-1 div.sk-parallel-item::before {content: \"\";position: absolute;border-left: 1px solid gray;box-sizing: border-box;top: 0;bottom: 0;left: 50%;z-index: -1;}#sk-container-id-1 div.sk-parallel-item {display: flex;flex-direction: column;z-index: 1;position: relative;background-color: white;}#sk-container-id-1 div.sk-parallel-item:first-child::after {align-self: flex-end;width: 50%;}#sk-container-id-1 div.sk-parallel-item:last-child::after {align-self: flex-start;width: 50%;}#sk-container-id-1 div.sk-parallel-item:only-child::after {width: 0;}#sk-container-id-1 div.sk-dashed-wrapped {border: 1px dashed gray;margin: 0 0.4em 0.5em 0.4em;box-sizing: border-box;padding-bottom: 0.4em;background-color: white;}#sk-container-id-1 div.sk-label label {font-family: monospace;font-weight: bold;display: inline-block;line-height: 1.2em;}#sk-container-id-1 div.sk-label-container {text-align: center;}#sk-container-id-1 div.sk-container {/* jupyter's `normalize.less` sets `[hidden] { display: none; }` but bootstrap.min.css set `[hidden] { display: none !important; }` so we also need the `!important` here to be able to override the default hidden behavior on the sphinx rendered scikit-learn.org. See: https://github.com/scikit-learn/scikit-learn/issues/21755 */display: inline-block !important;position: relative;}#sk-container-id-1 div.sk-text-repr-fallback {display: none;}</style><div id=\"sk-container-id-1\" class=\"sk-top-container\"><div class=\"sk-text-repr-fallback\"><pre>OneHotEncoder()</pre><b>In a Jupyter environment, please rerun this cell to show the HTML representation or trust the notebook. <br />On GitHub, the HTML representation is unable to render, please try loading this page with nbviewer.org.</b></div><div class=\"sk-container\" hidden><div class=\"sk-item\"><div class=\"sk-estimator sk-toggleable\"><input class=\"sk-toggleable__control sk-hidden--visually\" id=\"sk-estimator-id-1\" type=\"checkbox\" checked><label for=\"sk-estimator-id-1\" class=\"sk-toggleable__label sk-toggleable__label-arrow\">OneHotEncoder</label><div class=\"sk-toggleable__content\"><pre>OneHotEncoder()</pre></div></div></div></div></div>"
            ],
            "text/plain": [
              "OneHotEncoder()"
            ]
          },
          "execution_count": 52,
          "metadata": {},
          "output_type": "execute_result"
        }
      ],
      "source": [
        "# Create an instance of the OneHotEncoder class and fit it to the categorical feature\n",
        "ohe = OneHotEncoder()\n",
        "ohe.fit(X_cat)"
      ]
    },
    {
      "cell_type": "code",
      "execution_count": 53,
      "metadata": {},
      "outputs": [],
      "source": [
        "# Transform the categorical feature using the fitted OneHotEncoder\n",
        "X_cat_encoded = ohe.transform(X_cat).toarray()"
      ]
    },
    {
      "cell_type": "code",
      "execution_count": 54,
      "metadata": {},
      "outputs": [
        {
          "data": {
            "text/html": [
              "<style>#sk-container-id-2 {color: black;background-color: white;}#sk-container-id-2 pre{padding: 0;}#sk-container-id-2 div.sk-toggleable {background-color: white;}#sk-container-id-2 label.sk-toggleable__label {cursor: pointer;display: block;width: 100%;margin-bottom: 0;padding: 0.3em;box-sizing: border-box;text-align: center;}#sk-container-id-2 label.sk-toggleable__label-arrow:before {content: \"▸\";float: left;margin-right: 0.25em;color: #696969;}#sk-container-id-2 label.sk-toggleable__label-arrow:hover:before {color: black;}#sk-container-id-2 div.sk-estimator:hover label.sk-toggleable__label-arrow:before {color: black;}#sk-container-id-2 div.sk-toggleable__content {max-height: 0;max-width: 0;overflow: hidden;text-align: left;background-color: #f0f8ff;}#sk-container-id-2 div.sk-toggleable__content pre {margin: 0.2em;color: black;border-radius: 0.25em;background-color: #f0f8ff;}#sk-container-id-2 input.sk-toggleable__control:checked~div.sk-toggleable__content {max-height: 200px;max-width: 100%;overflow: auto;}#sk-container-id-2 input.sk-toggleable__control:checked~label.sk-toggleable__label-arrow:before {content: \"▾\";}#sk-container-id-2 div.sk-estimator input.sk-toggleable__control:checked~label.sk-toggleable__label {background-color: #d4ebff;}#sk-container-id-2 div.sk-label input.sk-toggleable__control:checked~label.sk-toggleable__label {background-color: #d4ebff;}#sk-container-id-2 input.sk-hidden--visually {border: 0;clip: rect(1px 1px 1px 1px);clip: rect(1px, 1px, 1px, 1px);height: 1px;margin: -1px;overflow: hidden;padding: 0;position: absolute;width: 1px;}#sk-container-id-2 div.sk-estimator {font-family: monospace;background-color: #f0f8ff;border: 1px dotted black;border-radius: 0.25em;box-sizing: border-box;margin-bottom: 0.5em;}#sk-container-id-2 div.sk-estimator:hover {background-color: #d4ebff;}#sk-container-id-2 div.sk-parallel-item::after {content: \"\";width: 100%;border-bottom: 1px solid gray;flex-grow: 1;}#sk-container-id-2 div.sk-label:hover label.sk-toggleable__label {background-color: #d4ebff;}#sk-container-id-2 div.sk-serial::before {content: \"\";position: absolute;border-left: 1px solid gray;box-sizing: border-box;top: 0;bottom: 0;left: 50%;z-index: 0;}#sk-container-id-2 div.sk-serial {display: flex;flex-direction: column;align-items: center;background-color: white;padding-right: 0.2em;padding-left: 0.2em;position: relative;}#sk-container-id-2 div.sk-item {position: relative;z-index: 1;}#sk-container-id-2 div.sk-parallel {display: flex;align-items: stretch;justify-content: center;background-color: white;position: relative;}#sk-container-id-2 div.sk-item::before, #sk-container-id-2 div.sk-parallel-item::before {content: \"\";position: absolute;border-left: 1px solid gray;box-sizing: border-box;top: 0;bottom: 0;left: 50%;z-index: -1;}#sk-container-id-2 div.sk-parallel-item {display: flex;flex-direction: column;z-index: 1;position: relative;background-color: white;}#sk-container-id-2 div.sk-parallel-item:first-child::after {align-self: flex-end;width: 50%;}#sk-container-id-2 div.sk-parallel-item:last-child::after {align-self: flex-start;width: 50%;}#sk-container-id-2 div.sk-parallel-item:only-child::after {width: 0;}#sk-container-id-2 div.sk-dashed-wrapped {border: 1px dashed gray;margin: 0 0.4em 0.5em 0.4em;box-sizing: border-box;padding-bottom: 0.4em;background-color: white;}#sk-container-id-2 div.sk-label label {font-family: monospace;font-weight: bold;display: inline-block;line-height: 1.2em;}#sk-container-id-2 div.sk-label-container {text-align: center;}#sk-container-id-2 div.sk-container {/* jupyter's `normalize.less` sets `[hidden] { display: none; }` but bootstrap.min.css set `[hidden] { display: none !important; }` so we also need the `!important` here to be able to override the default hidden behavior on the sphinx rendered scikit-learn.org. See: https://github.com/scikit-learn/scikit-learn/issues/21755 */display: inline-block !important;position: relative;}#sk-container-id-2 div.sk-text-repr-fallback {display: none;}</style><div id=\"sk-container-id-2\" class=\"sk-top-container\"><div class=\"sk-text-repr-fallback\"><pre>DecisionTreeRegressor()</pre><b>In a Jupyter environment, please rerun this cell to show the HTML representation or trust the notebook. <br />On GitHub, the HTML representation is unable to render, please try loading this page with nbviewer.org.</b></div><div class=\"sk-container\" hidden><div class=\"sk-item\"><div class=\"sk-estimator sk-toggleable\"><input class=\"sk-toggleable__control sk-hidden--visually\" id=\"sk-estimator-id-2\" type=\"checkbox\" checked><label for=\"sk-estimator-id-2\" class=\"sk-toggleable__label sk-toggleable__label-arrow\">DecisionTreeRegressor</label><div class=\"sk-toggleable__content\"><pre>DecisionTreeRegressor()</pre></div></div></div></div></div>"
            ],
            "text/plain": [
              "DecisionTreeRegressor()"
            ]
          },
          "execution_count": 54,
          "metadata": {},
          "output_type": "execute_result"
        }
      ],
      "source": [
        "# Combine the numerical and encoded categorical features\n",
        "X = np.concatenate((X_num, X_cat_encoded), axis=1)\n",
        "y = df_aparts[[\"Price\"]]\n",
        "\n",
        "# Split the data into training and testing sets\n",
        "X_train, X_test, y_train, y_test = train_test_split(X, y, test_size=0.2, random_state=20)\n",
        "\n",
        "# Train the regression model using the training data\n",
        "clf = DecisionTreeRegressor()\n",
        "clf.fit(X_train, y_train)"
      ]
    },
    {
      "cell_type": "markdown",
      "metadata": {
        "id": "whIrmdS79KK8"
      },
      "source": [
        "# Prediction and accuracy"
      ]
    },
    {
      "cell_type": "code",
      "execution_count": 55,
      "metadata": {
        "id": "DyaT87nE9Dzo"
      },
      "outputs": [],
      "source": [
        "#Predictions using the testing set \n",
        "y_pred = clf.predict(X_test)\n",
        "\n",
        "# #Example of few predictions\n",
        "# print(\"Making predictions for the following 5 houses:\")\n",
        "# print(X.head())\n",
        "# print(\"The predictions are\")\n",
        "# five_pred= clf.predict(X_test)[:5]\n",
        "\n",
        "# five_pred"
      ]
    },
    {
      "cell_type": "code",
      "execution_count": 56,
      "metadata": {
        "id": "eNgh68VPJQ7b"
      },
      "outputs": [
        {
          "name": "stdout",
          "output_type": "stream",
          "text": [
            "(504, 14)\n",
            "(504, 1)\n",
            "(504,)\n"
          ]
        }
      ],
      "source": [
        "print(X_test.shape)\n",
        "print(y_test.shape)\n",
        "print(y_pred.shape)\n"
      ]
    },
    {
      "cell_type": "code",
      "execution_count": 57,
      "metadata": {
        "id": "KZTvjC0_FS9h"
      },
      "outputs": [],
      "source": [
        "# print(\"Making predictions for the following 5 houses:\")\n",
        "# print(X.head())\n",
        "# print(\"The predictions are\")\n",
        "# str(y_test[:5])"
      ]
    },
    {
      "cell_type": "code",
      "execution_count": 58,
      "metadata": {
        "id": "7DN1rz0Sv54K"
      },
      "outputs": [
        {
          "name": "stdout",
          "output_type": "stream",
          "text": [
            "Mean squared error:  26488479.482676066\n",
            "Root Mean Squared error:  5146.695977292235\n",
            "Mean absolute error:  2121.446376127967\n",
            "R-squared score:  0.9999688034903965\n"
          ]
        }
      ],
      "source": [
        "# #Checking the accuracy of the model using MSE,MAE and R-squared error\n",
        "\n",
        "from sklearn.metrics import mean_squared_error, mean_absolute_error, r2_score\n",
        "\n",
        "print('Mean squared error: ', mean_squared_error(y_test, y_pred))\n",
        "print(\"Root Mean Squared error: \", np.sqrt(mean_squared_error(y_test, y_pred)))\n",
        "print('Mean absolute error: ', mean_absolute_error(y_test, y_pred))\n",
        "print('R-squared score: ', r2_score(y_test, y_pred))\n"
      ]
    },
    {
      "cell_type": "code",
      "execution_count": 60,
      "metadata": {
        "id": "l1MKxOdYwOjo"
      },
      "outputs": [],
      "source": [
        "# trying new model\n",
        "from sklearn.ensemble import RandomForestRegressor\n",
        "from sklearn.linear_model import SGDRegressor\n",
        "from sklearn.pipeline import make_pipeline\n",
        "from sklearn.preprocessing import StandardScaler\n",
        "\n",
        "# Always scale the input. The most convenient way is to use a pipeline.\n",
        "clf = make_pipeline(StandardScaler(),\n",
        "                     SGDRegressor(max_iter=1000, tol=1e-3, loss=\"squared_error\"))\n"
      ]
    },
    {
      "cell_type": "code",
      "execution_count": 61,
      "metadata": {
        "id": "3FK0AbcY0BvK"
      },
      "outputs": [
        {
          "name": "stderr",
          "output_type": "stream",
          "text": [
            "e:\\Documents\\Subjects\\Year 3\\SUMMATIVES\\AI\\HousingModelKenya\\SUMMATIVE_AI_Group17_KenyaHousing\\venv\\Lib\\site-packages\\sklearn\\utils\\validation.py:1143: DataConversionWarning: A column-vector y was passed when a 1d array was expected. Please change the shape of y to (n_samples, ), for example using ravel().\n",
            "  y = column_or_1d(y, warn=True)\n"
          ]
        },
        {
          "data": {
            "text/plain": [
              "0.47105391795592877"
            ]
          },
          "execution_count": 61,
          "metadata": {},
          "output_type": "execute_result"
        }
      ],
      "source": [
        "#Checking the accuracy of a model\n",
        "clf.fit(X_train, y_train)\n",
        "forestPred = clf.predict(X_test)\n",
        "forestScores = clf.score(X_test, y_test)\n",
        "forestScores"
      ]
    },
    {
      "cell_type": "code",
      "execution_count": 62,
      "metadata": {
        "id": "e8mPwcYuBLjX"
      },
      "outputs": [
        {
          "data": {
            "text/plain": [
              "5146.695977292235"
            ]
          },
          "execution_count": 62,
          "metadata": {},
          "output_type": "execute_result"
        }
      ],
      "source": [
        "mse = mean_squared_error(y_test, y_pred)\n",
        "rmse = np.sqrt(mse)\n",
        "rmse"
      ]
    },
    {
      "cell_type": "code",
      "execution_count": 63,
      "metadata": {
        "id": "UdOBLh6ov57x"
      },
      "outputs": [
        {
          "data": {
            "image/png": "[encoded data removed]",
            "text/plain": [
              "<Figure size 640x480 with 1 Axes>"
            ]
          },
          "metadata": {},
          "output_type": "display_data"
        }
      ],
      "source": [
        "#using a scatter plot to visualize how well the model is perfoming\n",
        "plt.scatter(y_test, y_pred)\n",
        "plt.xlabel('Actual values')\n",
        "plt.ylabel('Predicted values')\n",
        "plt.title('Actual vs Predicted values')\n",
        "plt.show()\n"
      ]
    },
    {
      "cell_type": "code",
      "execution_count": 57,
      "metadata": {
        "id": "sB8a-Mx1qZxe"
      },
      "outputs": [],
      "source": [
        "# from sklearn.model_selection import cross_val_score\n",
        "#  #Cross-validate the model\n",
        "#  #Perform cross-validation on the model\n",
        "# scores = cross_val_score(clf, X, y, cv=5, scoring='neg_mean_squared_error')\n",
        "# rmse_scores = np.sqrt(-scores)\n",
        "\n",
        "#  # Display the cross-validation scores\n",
        "# print('Cross-Validation Scores:', rmse_scores)\n",
        "# print('Mean:', rmse_scores.mean())\n",
        "# print('Standard deviation:', rmse_scores.std())\n"
      ]
    },
    {
      "cell_type": "code",
      "execution_count": null,
      "metadata": {
        "id": "fCRB5A8b8ZHt"
      },
      "outputs": [],
      "source": [
        "joblib.dump(clf, 'house_price_prediction.joblib')"
      ]
    }
  ],
  "metadata": {
    "colab": {
      "provenance": []
    },
    "kernelspec": {
      "display_name": "venv",
      "language": "python",
      "name": "python3"
    },
    "language_info": {
      "codemirror_mode": {
        "name": "ipython",
        "version": 3
      },
      "file_extension": ".py",
      "mimetype": "text/x-python",
      "name": "python",
      "nbconvert_exporter": "python",
      "pygments_lexer": "ipython3",
      "version": "3.11.2"
    }
  },
  "nbformat": 4,
  "nbformat_minor": 0
}
